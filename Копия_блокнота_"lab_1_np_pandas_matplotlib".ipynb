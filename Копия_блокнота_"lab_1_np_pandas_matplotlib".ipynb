{
  "cells": [
    {
      "cell_type": "code",
      "execution_count": null,
      "metadata": {
        "id": "AYaE7_JJ0FPF"
      },
      "outputs": [],
      "source": [
        "import numpy as np\n",
        "import pandas as pd\n",
        "import seaborn as sns\n",
        "import matplotlib.pyplot as plt"
      ]
    },
    {
      "cell_type": "markdown",
      "metadata": {
        "id": "0RCmksOJI3xV"
      },
      "source": [
        "# 1. Разминка (4 балла)"
      ]
    },
    {
      "cell_type": "markdown",
      "metadata": {
        "id": "Qcg7rwRgLEhK"
      },
      "source": [
        "## 1.1 Создание матриц (0.25 балла)\n",
        "\n",
        "Создайте 4 матрицы\n",
        "- A - \"шахматную\" из нулей и единиц, размера 6 на 3, левое верхнее значение (A[0][0]) равно 1,\n",
        "- В - из чисел от 1 до 24, записанных в виде змейки, размера 6 на 4,\n",
        "- C - из случайных целых чисел от 2 до 10 (обе границы включительно), размера 4 на 3\n",
        "- D - из нулей с единичками на главной диагонали, размера 4 на 4.\n",
        "\n",
        "**Создайте из этих матриц \"лоскутную\" матрицу S**\n",
        "\n",
        "A В\n",
        "\n",
        "С D\n",
        "\n",
        "используя **только стандартные** операции numpy. Comprehensions использовать нельзя.\n",
        "\n",
        "После этого допишите к полученной матрице S матрицу F размера 10 на 2 из нулей, чтобы получилась матрица G:\n",
        "\n",
        "S F\n",
        "\n",
        "P.S. Когда мы говорим, что матрица имеет размер x на y, x - количество строк, y - количество столбцов."
      ]
    },
    {
      "cell_type": "code",
      "execution_count": null,
      "metadata": {
        "id": "agysa3FoLG6G"
      },
      "outputs": [],
      "source": [
        "import numpy as np\n",
        "\n",
        "A = np.fromfunction(lambda i, j: (i + j + 1) % 2, (6, 3), dtype=int)\n",
        "B = np.zeros((6, 4), dtype=int)\n",
        "B.flat = range(1, 25)\n",
        "B[1::2] = B[1::2, ::-1]\n",
        "np.random.seed(42)\n",
        "C = np.random.randint(2, 11, size=(4, 3))\n",
        "D = np.eye(4, dtype=int)\n",
        "S_top = np.hstack((A, B))\n",
        "S_bottom = np.hstack((C, D))\n",
        "S = np.vstack((S_top, S_bottom))\n",
        "F = np.zeros((10, 2), dtype=int)\n",
        "G = np.hstack((S, F))\n",
        "\n",
        "print(\"Матрица A:\")\n",
        "print(A)\n",
        "print(\"\\nМатрица B:\")\n",
        "print(B)\n",
        "print(\"\\nМатрица C:\")\n",
        "print(C)\n",
        "print(\"\\nМатрица D:\")\n",
        "print(D)\n",
        "print(\"\\nЛоскутная матрица S:\")\n",
        "print(S)\n",
        "print(\"\\nИтоговая матрица G:\")\n",
        "print(G)"
      ]
    },
    {
      "cell_type": "markdown",
      "metadata": {
        "id": "PPNphrLJLYaO"
      },
      "source": [
        "## 1.2 Поиск ближайшего соседа (0.25 балла)\n",
        "\n",
        "Реализуйте функцию, принимающую на вход матрицу X и некоторое число a и возвращающую ближайший к числу элемент матрицы.\n",
        "Например, для X = np.arange(0,10).reshape((2, 5)) и a = 3.6 ответом будет 4. Можно пользоваться только базовыми функциями numpy, циклами пользоваться **нельзя**."
      ]
    },
    {
      "cell_type": "code",
      "execution_count": null,
      "metadata": {
        "id": "9iyCwtKeL4Sx"
      },
      "outputs": [],
      "source": [
        "import numpy as np\n",
        "\n",
        "def find_nearest(X, a):\n",
        "    return np.min(X[np.abs(X - a) == np.abs(X - a).min()])\n",
        "\n",
        "X = np.array(eval(input(\"Введите матрицу X\")))\n",
        "a = float(input(\"Введите число a: \"))\n",
        "\n",
        "result = find_nearest(X, a)\n",
        "print(f\"Ближайший к числу {a} элемент в матрице: {result}\")"
      ]
    },
    {
      "cell_type": "markdown",
      "metadata": {
        "id": "KjVNDl-qM5va"
      },
      "source": [
        "## 1.3 Очень странная нейросеть (0.25 балла)\n",
        "\n",
        "Реализуйте одну очень странную нейросеть. Нейросеть должна:\n",
        "\n",
        "- Возводить матрицу A (матрицу весов) размера N x N в квадрат\n",
        "- В качестве первого преобразования умножать вектор X длины N (вектор признаков) на матрицу весов A**2 (на выходе получается новый вектор);\n",
        "- В качестве второго преобразования умножать вектор, полученный на прошлом шаге, на вектор b (вектор весов) размера N (на выходе получается скалярное число).\n",
        "\n",
        "Считаем, что все числа (элементы матриц и векторов) - числа с плавающей точкой."
      ]
    },
    {
      "cell_type": "code",
      "execution_count": null,
      "metadata": {
        "id": "fK9N52bVOQk3"
      },
      "outputs": [],
      "source": [
        "import numpy as np\n",
        "\n",
        "class StrangeNeuralNet:\n",
        "    def __init__(self, A, b):\n",
        "\n",
        "        self.A = A\n",
        "        self.b = b\n",
        "\n",
        "    def forward(self, X):\n",
        "\n",
        "        A_squared = np.dot(self.A, self.A)\n",
        "        intermediate_vector = np.dot(A_squared, X)\n",
        "        output = np.dot(intermediate_vector, self.b)\n",
        "        return output\n",
        "\n",
        "N = int(input(\"Введите размерность матрицы N: \"))\n",
        "print(\"Введите матрицу A (каждая строка через пробел):\")\n",
        "A = np.array([list(map(float, input().split())) for _ in range(N)])\n",
        "print(\"Введите вектор b (через пробел):\")\n",
        "b = np.array(list(map(float, input().split())))\n",
        "print(\"Введите вектор признаков X (через пробел):\")\n",
        "X = np.array(list(map(float, input().split())))\n",
        "\n",
        "net = StrangeNeuralNet(A, b)\n",
        "result = net.forward(X)\n",
        "\n",
        "print(f\"Результат работы нейросети: {result}\")"
      ]
    },
    {
      "cell_type": "markdown",
      "metadata": {
        "id": "zqJo51OHO0Op"
      },
      "source": [
        "## 1.4 Джунгли зовут! (0.25 балла)\n",
        "\n",
        "Перед вами матрица M - карта местности тяжелопроходимых джунглей, составленная Ларой Крофт. На карте каждая ячейка - целое число, обозначающее высоту над уровнем моря (если число больше нуля) в метрах или глубину моря (если число меньше нуля) в метрах в данной ячейке карты размером метр на метр. Если число 0, то это часть суши - берег.\n",
        "\n",
        "\n",
        "Вам необходимо посчитать:\n",
        "- Общую площадь клеточек моря, в которых его глубина больше 5 (в м^2)\n",
        "- Общий объём всей воды на карте (в м^3)\n",
        "- Максимальную высоту над уровнем моря, которая есть на этой карте (в м)"
      ]
    },
    {
      "cell_type": "code",
      "execution_count": null,
      "metadata": {
        "id": "_xSlubGZSp-P"
      },
      "outputs": [],
      "source": [
        "import numpy as np\n",
        "\n",
        "M = np.array(eval(input(\"Введите карту местности M в формате [[...], [...], ...]: \")))\n",
        "\n",
        "sea_cells_area = np.sum((M < 0) & (M < -5))\n",
        "\n",
        "total_water_volume = np.sum(M[M < 0])\n",
        "\n",
        "max_height = np.max(M[M > 0])\n",
        "\n",
        "print(f\"Общая площадь клеточек моря с глубиной больше 5 м: {sea_cells_area} м^2\")\n",
        "print(f\"Общий объем всей воды на карте: {total_water_volume} м^3\")\n",
        "print(f\"Максимальная высота над уровнем моря: {max_height} м\")"
      ]
    },
    {
      "cell_type": "code",
      "execution_count": 9,
      "metadata": {
        "colab": {
          "base_uri": "https://localhost:8080/"
        },
        "id": "c6f0bMWKSuo-",
        "outputId": "eb537aa3-d7d8-471c-b960-9d0e38d1f4ae"
      },
      "outputs": [
        {
          "name": "stdout",
          "output_type": "stream",
          "text": [
            "Общая площадь клеточек моря с глубиной больше 5 м: 3 м^2\n",
            "Общий объем всей воды на карте: -22 м^3\n",
            "Максимальная высота над уровнем моря: 10 м\n"
          ]
        }
      ],
      "source": [
        "import numpy as np\n",
        "\n",
        "# Ввод карты местности (матрица)\n",
        "M = np.array([[0, 0, 0, 10],\n",
        "              [0, -6, -7, 0],\n",
        "              [5, 3, 0, 0],\n",
        "              [-3, -6, 4, 0]])\n",
        "\n",
        "# Подсчет общей площади клеточек моря с глубиной больше 5 м\n",
        "sea_cells_area = np.sum((M < 0) & (M < -5))\n",
        "\n",
        "# Подсчет общего объема воды (в м^3)\n",
        "total_water_volume = np.sum(M[M < 0])\n",
        "\n",
        "# Подсчет максимальной высоты над уровнем моря\n",
        "max_height = np.max(M[M > 0])\n",
        "\n",
        "# Вывод результатов\n",
        "print(f\"Общая площадь клеточек моря с глубиной больше 5 м: {sea_cells_area} м^2\")\n",
        "print(f\"Общий объем всей воды на карте: {total_water_volume} м^3\")\n",
        "print(f\"Максимальная высота над уровнем моря: {max_height} м\")\n",
        "\n"
      ]
    },
    {
      "cell_type": "markdown",
      "metadata": {
        "id": "_aqjtctjExok"
      },
      "source": [
        "## 1.5 Острова сокровищ (0.25 балла)\n",
        "\n",
        "\n",
        "На вход функции подаётся массив a из нулей и единиц. Необходимо посчитать, сколько в массиве есть блоков из идущих подряд единиц (островков). Можно пользоваться только базовыми функциями numpy, циклами пользоваться **нельзя**.\n",
        "\n",
        "Подсказка: посмотрите, что такое `np.diff`"
      ]
    },
    {
      "cell_type": "code",
      "execution_count": null,
      "metadata": {
        "id": "c5UFVtX_Ff_d"
      },
      "outputs": [],
      "source": [
        "import numpy as np\n",
        "\n",
        "def count_islands(a):\n",
        "\n",
        "    a = np.pad(a, (1, 1), 'constant', constant_values=0)\n",
        "\n",
        "    diff = np.diff(a)\n",
        "\n",
        "    num_islands = np.sum(diff == 1)\n",
        "\n",
        "    return num_islands\n",
        "\n",
        "a = np.array(list(map(int, input(\"Введите массив из нулей и единиц через пробел: \").split())))\n",
        "\n",
        "result = count_islands(a)\n",
        "\n",
        "print(f\"Количество островков: {result}\")"
      ]
    },
    {
      "cell_type": "code",
      "execution_count": 10,
      "metadata": {
        "colab": {
          "base_uri": "https://localhost:8080/"
        },
        "id": "OeiTXVnFFYSm",
        "outputId": "72b0e7e5-f597-41f5-fc2f-5bf1e0d60abd"
      },
      "outputs": [
        {
          "name": "stdout",
          "output_type": "stream",
          "text": [
            "Количество островков: 4\n"
          ]
        }
      ],
      "source": [
        "import numpy as np\n",
        "\n",
        "def count_islands(a):\n",
        "    a = np.pad(a, (1, 1), 'constant', constant_values=0)  # Добавляем 0 по краям\n",
        "    diff = np.diff(a)  # Вычисляем разницу между соседними элементами\n",
        "    num_islands = np.sum(diff == 1)  # Считаем, где разница равна 1 (т.е. начало островка)\n",
        "    return num_islands\n",
        "\n",
        "# Пример массива\n",
        "a = np.array([0, 0, 1, 1, 1, 0, 0, 0, 0, 1, 1, 0, 0, 1, 0, 1, 1, 1])\n",
        "\n",
        "# Подсчитаем количество островков\n",
        "result = count_islands(a)\n",
        "\n",
        "# Выводим результат\n",
        "print(f\"Количество островков: {result}\")\n"
      ]
    },
    {
      "cell_type": "markdown",
      "metadata": {
        "id": "4KyG4iVKFmvv"
      },
      "source": [
        "## 1.6 Маскарад (0.25 балла)\n",
        "\n",
        "На вход идёт 2-мерная матрица X, заполненная числами с плавающей точкой, и дробное число a. Нужно заменить все ячейки в матрице, которые больше, чем а, на среднее значение среди элементов матрицы Х.\n",
        "\n",
        "**Нужно** пользоваться базовыми функциями numpy, **нельзя** пользоваться циклами."
      ]
    },
    {
      "cell_type": "code",
      "execution_count": null,
      "metadata": {
        "id": "um-nH9VgGbeF"
      },
      "outputs": [],
      "source": [
        "import numpy as np\n",
        "\n",
        "def replace_greater_than_a(X, a):\n",
        "\n",
        "    mean_value = np.mean(X)\n",
        "\n",
        "    X[X > a] = mean_value\n",
        "\n",
        "    return X\n",
        "\n",
        "X = np.array(eval(input(\"Введите матрицу X\")))\n",
        "a = float(input(\"Введите число a: \"))\n",
        "\n",
        "result = replace_greater_than_a(X, a)\n",
        "\n",
        "print(\"Матрица после замены элементов:\")\n",
        "print(result)"
      ]
    },
    {
      "cell_type": "code",
      "execution_count": 11,
      "metadata": {
        "colab": {
          "base_uri": "https://localhost:8080/"
        },
        "id": "3VM2Q15zGiCL",
        "outputId": "f616bc11-1bbd-4ae5-aca2-6799bfeb5a43"
      },
      "outputs": [
        {
          "name": "stdout",
          "output_type": "stream",
          "text": [
            "Матрица после замены элементов:\n",
            "[[-7 -3 -1  0]\n",
            " [-4 -3  1  2]\n",
            " [-2  0  4  2]\n",
            " [-1  3  2  2]]\n"
          ]
        }
      ],
      "source": [
        "import numpy as np\n",
        "\n",
        "def replace_greater_than_a(X, a):\n",
        "    mean_value = np.mean(X)  # Находим среднее значение матрицы\n",
        "    X[X > a] = mean_value  # Заменяем все элементы, которые больше a, на среднее значение\n",
        "    return X\n",
        "\n",
        "# Пример матрицы X и числа a\n",
        "X = np.array([\n",
        "    [-7, -3, -1, 0],\n",
        "    [-4, -3, 1, 19],\n",
        "    [-2, 0, 4, 25],\n",
        "    [-1, 3, 6, 9]\n",
        "])\n",
        "a = 5\n",
        "\n",
        "# Применяем функцию\n",
        "result = replace_greater_than_a(X, a)\n",
        "\n",
        "# Выводим результат\n",
        "print(\"Матрица после замены элементов:\")\n",
        "print(result)\n"
      ]
    },
    {
      "cell_type": "markdown",
      "metadata": {
        "id": "W8IS-G9mHygT"
      },
      "source": [
        "## 1.7 По горячим трейсам (0.25 балла)\n",
        "\n",
        "На вход приходит квадратная матрица М, надо посчитать разницу между суммой по главной и побочной диагоналями матрицы.\n",
        "\n",
        "\n",
        "Можно пользоваться только базовыми функциями numpy, циклами пользоваться **нельзя**.\n",
        "\n",
        "Подсказка: посмотрите, что такое `np.trace`"
      ]
    },
    {
      "cell_type": "code",
      "execution_count": null,
      "metadata": {
        "id": "iD0baTAxIil6"
      },
      "outputs": [],
      "source": [
        "import numpy as np\n",
        "\n",
        "def diagonal_difference(M):\n",
        "\n",
        "    main_diag_sum = np.trace(M)\n",
        "\n",
        "    secondary_diag_sum = np.trace(np.fliplr(M))\n",
        "\n",
        "    return main_diag_sum - secondary_diag_sum\n",
        "\n",
        "M = np.array(eval(input(\"Введите квадратную матрицу M: \")))\n",
        "\n",
        "result = diagonal_difference(M)\n",
        "\n",
        "print(f\"Разница между суммой по главной и побочной диагоналям: {result}\")"
      ]
    },
    {
      "cell_type": "code",
      "execution_count": 12,
      "metadata": {
        "colab": {
          "base_uri": "https://localhost:8080/"
        },
        "id": "9cewBWIyIy7G",
        "outputId": "cb15a2de-56f9-440c-b60b-e9ef39c4490a"
      },
      "outputs": [
        {
          "name": "stdout",
          "output_type": "stream",
          "text": [
            "Разница между суммой по главной и побочной диагоналям: 3\n"
          ]
        }
      ],
      "source": [
        "import numpy as np\n",
        "\n",
        "def diagonal_difference(M):\n",
        "    main_diag_sum = np.trace(M)  # Сумма элементов главной диагонали\n",
        "    secondary_diag_sum = np.trace(np.fliplr(M))  # Сумма элементов побочной диагонали\n",
        "    return main_diag_sum - secondary_diag_sum\n",
        "\n",
        "# Пример квадратной матрицы M\n",
        "M = np.array([\n",
        "    [-7, -3, -1, 0],\n",
        "    [-4, -3, 1, 19],\n",
        "    [-2, 0, 4, 25],\n",
        "    [-1, 3, 6, 9]\n",
        "])\n",
        "\n",
        "# Применяем функцию\n",
        "result = diagonal_difference(M)\n",
        "\n",
        "# Выводим результат\n",
        "print(f\"Разница между суммой по главной и побочной диагоналям: {result}\")\n"
      ]
    },
    {
      "cell_type": "markdown",
      "metadata": {
        "id": "SPXmaaXCGu9X"
      },
      "source": [
        "## 1.8 Царь горы (0.25 балла)\n",
        "\n",
        "На вход приходит вектор a размера N. Необходимо при помощи сложения, конкатенации, бродкастинга получить симметричную матрицу размера 2N x 2N, у которой в середине максимальное значение, а к краям оно убывает.\n",
        "\n",
        "Пример: a = (0, 1, 2)\n",
        "\n",
        "Результат:\n",
        "\n",
        "0 1 2 2 1 0 \\\\\n",
        "1 2 3 3 2 1 \\\\\n",
        "2 3 4 4 3 2 \\\\\n",
        "2 3 4 4 3 2 \\\\\n",
        "1 2 3 3 2 1 \\\\\n",
        "0 1 2 2 1 0 \\\\"
      ]
    },
    {
      "cell_type": "code",
      "execution_count": 18,
      "metadata": {
        "id": "AIZjzQ7qHasl"
      },
      "outputs": [],
      "source": [
        "import numpy as np\n",
        "\n",
        "def create_mountain(a):\n",
        "    N = len(a)\n",
        "\n",
        "    # Создание матрицы из суммы элементов вектора a\n",
        "    center = np.add.outer(a, a)  # создаем матрицу N x N\n",
        "\n",
        "    # Используем np.block для создания симметричной матрицы\n",
        "    mountain = np.block([\n",
        "        [center, np.fliplr(center)],  # верхняя часть: center и его зеркальное отражение\n",
        "        [np.flipud(center), np.flipud(np.fliplr(center))]  # нижняя часть: зеркальное отражение по обеим осям\n",
        "    ])\n",
        "\n",
        "    return mountain\n"
      ]
    },
    {
      "cell_type": "code",
      "execution_count": 13,
      "metadata": {
        "colab": {
          "base_uri": "https://localhost:8080/"
        },
        "id": "mPc6GlqTHi4y",
        "outputId": "f37ffadc-a355-48a7-e54d-60419354943e"
      },
      "outputs": [
        {
          "name": "stdout",
          "output_type": "stream",
          "text": [
            "[[0 1 2 2 1 0]\n",
            " [1 2 3 3 2 1]\n",
            " [2 3 4 4 3 2]\n",
            " [2 3 4 4 3 2]\n",
            " [1 2 3 3 2 1]\n",
            " [0 1 2 2 1 0]]\n"
          ]
        }
      ],
      "source": [
        "import numpy as np\n",
        "\n",
        "def create_mountain(a):\n",
        "    N = len(a)\n",
        "    center = np.add.outer(a, a)\n",
        "    mountain = np.block([\n",
        "        [center, np.fliplr(center)],\n",
        "        [np.flipud(center), np.flipud(np.fliplr(center))]\n",
        "    ])\n",
        "    return mountain\n",
        "\n",
        "# Пример вектора a\n",
        "a = np.array([0, 1, 2])\n",
        "\n",
        "# Применяем функцию для создания симметричной матрицы\n",
        "result = create_mountain(a)\n",
        "\n",
        "# Выводим результат\n",
        "print(result)\n"
      ]
    },
    {
      "cell_type": "markdown",
      "metadata": {
        "id": "_0DqE59yI4wo"
      },
      "source": [
        "## 1.9 Монохромная фотография 9 на 12 (0.5 балла)\n",
        "\n",
        "На вход приходит двухмерная матрица P размера N на M, заполненная числами от 0 до 255, соответствующая некой черно-белой фотографии и натуральное число C. Необходимо из неё получить матрицу размера (N-C + 1) x (M-C+1), где каждая ячейка - среднее значение соответствующей подматрицы размера C x C. Таким образом, по сути, мы сделаем примитивное размытие изображения (и немного потеряем в его размере)"
      ]
    },
    {
      "cell_type": "code",
      "execution_count": null,
      "metadata": {
        "id": "_x1l9qofKBuT"
      },
      "outputs": [],
      "source": [
        "import numpy as np\n",
        "\n",
        "def apply_blur(P, C):\n",
        "    N, M = P.shape\n",
        "\n",
        "    result = np.zeros((N - C + 1, M - C + 1))\n",
        "\n",
        "    for i in range(N - C + 1):\n",
        "        for j in range(M - C + 1):\n",
        "\n",
        "            submatrix = P[i:i+C, j:j+C]\n",
        "\n",
        "            result[i, j] = np.mean(submatrix)\n",
        "\n",
        "    return result\n",
        "\n",
        "P = np.array(eval(input(\"Введите матрицу P (черно-белое изображение): \")))\n",
        "C = int(input(\"Введите число C (размер окна): \"))\n",
        "\n",
        "blurred_image = apply_blur(P, C)\n",
        "\n",
        "print(\"Результат размытия изображения:\")\n",
        "print(blurred_image)"
      ]
    },
    {
      "cell_type": "code",
      "execution_count": 14,
      "metadata": {
        "colab": {
          "base_uri": "https://localhost:8080/"
        },
        "id": "1UHsPZG6KNjB",
        "outputId": "8d6daf2d-cbbe-4696-8d38-e57d5ddd2f53"
      },
      "outputs": [
        {
          "name": "stdout",
          "output_type": "stream",
          "text": [
            "Результат размытия изображения:\n",
            "[[35. 45. 55.]\n",
            " [75. 85. 95.]]\n"
          ]
        }
      ],
      "source": [
        "import numpy as np\n",
        "\n",
        "def apply_blur(P, C):\n",
        "    N, M = P.shape\n",
        "    result = np.zeros((N - C + 1, M - C + 1))\n",
        "    for i in range(N - C + 1):\n",
        "        for j in range(M - C + 1):\n",
        "            submatrix = P[i:i+C, j:j+C]\n",
        "            result[i, j] = np.mean(submatrix)\n",
        "    return result\n",
        "\n",
        "# Пример матрицы P (черно-белое изображение)\n",
        "P = np.array([\n",
        "    [10, 20, 30, 40],\n",
        "    [50, 60, 70, 80],\n",
        "    [90, 100, 110, 120]\n",
        "])\n",
        "\n",
        "# Размер окна для размытия\n",
        "C = 2\n",
        "\n",
        "# Применяем размытие\n",
        "blurred_image = apply_blur(P, C)\n",
        "\n",
        "# Выводим результат\n",
        "print(\"Результат размытия изображения:\")\n",
        "print(blurred_image)\n"
      ]
    },
    {
      "cell_type": "markdown",
      "metadata": {
        "id": "dfOlyj2NKUQM"
      },
      "source": [
        "## 1.10 Функция проверки (0.75 балла)\n",
        "\n",
        "На вход функции поступает произвольное (>2) кортежей размеров (shape) различных матриц. Необходимо вернуть True если можно последовательно сложить эти матрицы (возможно, с помощью broadcasting), и False если нет."
      ]
    },
    {
      "cell_type": "code",
      "execution_count": null,
      "metadata": {
        "id": "pvsySOXiLSll"
      },
      "outputs": [],
      "source": [
        "import numpy as np\n",
        "\n",
        "def can_be_added(*shapes):\n",
        "    shapes = [np.array(shape) for shape in shapes]\n",
        "\n",
        "    for i in range(1, len(shapes)):\n",
        "        shape1, shape2 = shapes[i - 1], shapes[i]\n",
        "\n",
        "        if not np.all((shape1[-len(shape2):] == shape2) | (shape1[-len(shape2):] == 1) | (shape2 == 1)):\n",
        "            return False\n",
        "\n",
        "    return True\n",
        "\n",
        "num_matrices = int(input(\"Введите количество матриц: \"))\n",
        "shapes = []\n",
        "\n",
        "for i in range(num_matrices):\n",
        "    shape = tuple(map(int, input(f\"Введите размерность матрицы {i + 1}: \").split()))\n",
        "    shapes.append(shape)\n",
        "\n",
        "if can_be_added(*shapes):\n",
        "    print(\"Матрицы могут быть сложены с использованием broadcasting.\")\n",
        "else:\n",
        "    print(\"Матрицы не могут быть сложены с использованием broadcasting.\")"
      ]
    },
    {
      "cell_type": "code",
      "execution_count": 15,
      "metadata": {
        "colab": {
          "base_uri": "https://localhost:8080/"
        },
        "id": "j2nlX8gZLgu_",
        "outputId": "4a67748d-82ff-47c0-c117-8f27b4f6dbe1"
      },
      "outputs": [
        {
          "name": "stdout",
          "output_type": "stream",
          "text": [
            "Матрицы могут быть сложены с использованием broadcasting.\n"
          ]
        }
      ],
      "source": [
        "import numpy as np\n",
        "\n",
        "def can_be_added(*shapes):\n",
        "    shapes = [np.array(shape) for shape in shapes]\n",
        "\n",
        "    for i in range(1, len(shapes)):\n",
        "        shape1, shape2 = shapes[i - 1], shapes[i]\n",
        "\n",
        "        # Проверяем, что последние размеры совпадают или могут быть приведены к единичному размеру для broadcasting\n",
        "        if not np.all((shape1[-len(shape2):] == shape2) | (shape1[-len(shape2):] == 1) | (shape2 == 1)):\n",
        "            return False\n",
        "    return True\n",
        "\n",
        "# Пример: задаем размеры матриц\n",
        "shapes = [\n",
        "    (5, 6, 7),\n",
        "    (6, 7),\n",
        "    (1, 7)\n",
        "]\n",
        "\n",
        "if can_be_added(*shapes):\n",
        "    print(\"Матрицы могут быть сложены с использованием broadcasting.\")\n",
        "else:\n",
        "    print(\"Матрицы не могут быть сложены с использованием broadcasting.\")\n"
      ]
    },
    {
      "cell_type": "markdown",
      "metadata": {
        "id": "HCLr2eqgLrnW"
      },
      "source": [
        "## 1.11 Попарные расстояния (0.75 балла)\n",
        "\n",
        "На вход подаются матрицы A размера m x k и матрица B размера n x k. Нужно получить матрицу размера m x n, содержащую попарные евклидовы расстояния.\n",
        "\n",
        "Можно пользоваться только базовыми функциями, нельзя пользоваться циклами, сторонними библиотеками; скорее всего, пригодится broadcasting. Авторское решение записывается **в одну строчку** в соответствии со всеми правилами кодстайла."
      ]
    },
    {
      "cell_type": "code",
      "execution_count": null,
      "metadata": {
        "id": "BsYOG1fCMVTp"
      },
      "outputs": [],
      "source": [
        "import numpy as np\n",
        "\n",
        "def pairwise_distances(A, B):\n",
        "    return np.sqrt(np.sum((A[:, np.newaxis, :] - B)**2, axis=2))\n",
        "\n",
        "m, k = map(int, input(\"Введите размеры матрицы A (m и k через пробел): \").split())\n",
        "A = []\n",
        "print(f\"Введите {m} строк для матрицы A, каждая из {k} элементов:\")\n",
        "for _ in range(m):\n",
        "    row = list(map(float, input().split()))\n",
        "    A.append(row)\n",
        "A = np.array(A)\n",
        "\n",
        "n, k2 = map(int, input(\"Введите размеры матрицы B (n и k через пробел): \").split())\n",
        "if k != k2:\n",
        "    raise ValueError(\"Число столбцов в A должно совпадать с числом столбцов в B!\")\n",
        "B = []\n",
        "print(f\"Введите {n} строк для матрицы B, каждая из {k} элементов:\")\n",
        "for _ in range(n):\n",
        "    row = list(map(float, input().split()))\n",
        "    B.append(row)\n",
        "B = np.array(B)\n",
        "\n",
        "result = pairwise_distances(A, B)\n",
        "\n",
        "print(\"Матрица попарных евклидовых расстояний:\")\n",
        "print(result)"
      ]
    },
    {
      "cell_type": "code",
      "execution_count": null,
      "metadata": {
        "id": "tjXHwtl0Mgdt"
      },
      "outputs": [],
      "source": [
        "A = # TODO\n",
        "B = # TODO\n",
        "\n",
        "pairwise_distances(A, B)"
      ]
    },
    {
      "cell_type": "markdown",
      "metadata": {
        "id": "ZTgj4OtAgcyI"
      },
      "source": [
        "Объясни принцип работы этой одной строчки. Что именно происходит в ней?\n",
        "\n",
        "<font color='red'> В этой одной строчке:\n",
        "\n",
        "return np.sqrt(np.sum((A[:, np.newaxis, :] - B)**2, axis=2))\n",
        "реализуется вычисление попарных евклидовых расстояний между строками двух матриц A и B с использованием broadcasting в numpy. Давайте разберём поэтапно, что происходит в этой строчке:\n",
        "\n",
        "1. A[:, np.newaxis, :]\n",
        "Это выражение добавляет новую ось в матрицу A, превращая её размерность с (m, k) на (m, 1, k).\n",
        "\n",
        "A — матрица размером m x k.\n",
        "np.newaxis добавляет новую ось, что позволяет \"расширить\" её до размерности (m, 1, k). Это необходимо для дальнейшего вычитания с матрицей B.\n",
        "Зачем это нужно?\n",
        "\n",
        "Это нужно, чтобы можно было вычесть каждый вектор из матрицы A из каждого вектора из матрицы B. С помощью broadcasting это делается автоматически.\n",
        "2. A[:, np.newaxis, :] - B\n",
        "Это операция вычитания между каждым вектором из A и каждым вектором из B с использованием broadcasting:\n",
        "\n",
        "Теперь A[:, np.newaxis, :] имеет размерность (m, 1, k), а B — (n, k).\n",
        "Broadcasting позволяет расширить матрицу B до формы (m, n, k), чтобы можно было вычесть все строки B из всех строк A.\n",
        "Результат:\n",
        "\n",
        "После вычитания получится массив размером (m, n, k), где каждый элемент является разностью соответствующих элементов из строк матриц A и B.\n",
        "3. (A[:, np.newaxis, :] - B)**2\n",
        "Каждое число в результате вычитания возводится в квадрат:\n",
        "\n",
        "Операция **2 выполняет возведение в квадрат разности между соответствующими элементами векторов.\n",
        "Результат:\n",
        "\n",
        "Мы получаем массив размерности (m, n, k), где каждый элемент является квадратом разности.\n",
        "4. np.sum((A[:, np.newaxis, :] - B)**2, axis=2)\n",
        "Здесь происходит суммирование по последней оси (по всем k-элементам вектора):\n",
        "\n",
        "Мы суммируем квадрат разностей для каждого вектора в строках A и B. Это нужно для вычисления евклидова расстояния, где суммируются квадраты разностей по всем координатам вектора.\n",
        "Результат:\n",
        "\n",
        "Мы получаем матрицу размерности (m, n), где каждый элемент в позиции (i, j) представляет собой сумму квадратов разностей между векторами A[i] и B[j].\n",
        "5. np.sqrt(np.sum((A[:, np.newaxis, :] - B)**2, axis=2))\n",
        "Последний шаг — это извлечение квадратного корня из суммы квадратов разностей:\n",
        "\n",
        "Мы берем квадратный корень из полученной суммы квадратов, чтобы получить евклидово расстояние.\n",
        "Результат:\n",
        "\n",
        "В результате получаем матрицу размерности (m, n), где каждый элемент представляет собой евклидово расстояние между строкой i из матрицы A и строкой j из матрицы B.\n",
        "Итог:\n",
        "Эта строка вычисляет матрицу попарных евклидовых расстояний между строками двух матриц A и B. Это делается с использованием broadcasting и векторизации, что делает решение эффективным и быстрым, особенно для больших матриц. </font>"
      ]
    },
    {
      "cell_type": "markdown",
      "metadata": {
        "id": "54rP40WP9qzf"
      },
      "source": [
        "# 2. Обработка данных эксперимента (3 балла)"
      ]
    },
    {
      "cell_type": "markdown",
      "metadata": {
        "id": "QnfGJx2qMvBH"
      },
      "source": [
        "А сейчас, дамы и господа, мы научимся использовать библиотеки для анализа данных в реальности!\n",
        "\n",
        "**Причина появления этого раздела проста**: многие студенты ПМФ даже во втором и третьем семестрах продолжают использовать Excel, калькулятор или лист бумаги. Хочется открыть глаза на ещё один способ выполнения лабораторных с намного меньшим порогом вхождения, чем тот же Excel. Авторы надеются, что кого-то это замотивирует присмотреться к удобным библиотекам.\n",
        "\n",
        "*Спонсор данных для раздела - blacksamorez. Без него пять счастливых семестров лаб были бы совсем не счастливыми...*"
      ]
    },
    {
      "cell_type": "code",
      "execution_count": null,
      "metadata": {
        "id": "ZhGfEL9KtqZN"
      },
      "outputs": [],
      "source": [
        "import numpy as np\n",
        "import pandas as pd\n",
        "import matplotlib.pyplot as plt"
      ]
    },
    {
      "cell_type": "markdown",
      "metadata": {
        "id": "q2Qr6BIzASBB"
      },
      "source": [
        "##  2.1. Постановка задачи и данные\n",
        "\n",
        "Предположим, у нас есть гироскоп с прицепленным к его оси грузом на рычаге (см. рисунок для быстрого понимания, а подробности можно узнать в [лабораторном практикуме](https://lib.mipt.ru/book/267519/), том 1, стр.160). Из-за наличия груза гироскоп начинает медленно [прецессировать](https://ru.wikipedia.org/wiki/%D0%9F%D1%80%D0%B5%D1%86%D0%B5%D1%81%D1%81%D0%B8%D1%8F), т.е. вращаться вокруг вертикальной оси с какой-то более-менее постоянной частотой.\n",
        "\n",
        "Мы с вами разберём часть этой лабораторной, в основном касающуюся обработки данных и построения графиков."
      ]
    },
    {
      "cell_type": "markdown",
      "metadata": {
        "id": "FrPpSNRaKsfa"
      },
      "source": [
        "<center><img src='https://drive.google.com/uc?export=view&id=1KfYQ0hKYRDhi5uk7C8lNffZBNy8NF7nu' width=600>\n",
        "\n",
        "Изображение гироскопа с подвешенным грузом Г и рычагом С</center>"
      ]
    },
    {
      "cell_type": "markdown",
      "metadata": {
        "id": "XxZ2BYwEkWTI"
      },
      "source": [
        "Для начала посмотрим на данные, которые любезно кто-то для нас собрал. Создайте датафрейм из [файла](https://drive.google.com/file/d/1SbLR6R16obqLewUTnX1CAAjQTrVXh2Vq/view?usp=sharing)"
      ]
    },
    {
      "cell_type": "code",
      "execution_count": null,
      "metadata": {
        "colab": {
          "base_uri": "https://localhost:8080/",
          "height": 206
        },
        "id": "b8vBlrx1tlKv",
        "outputId": "060449f7-d670-4459-d4f0-f27a32bf0c05"
      },
      "outputs": [
        {
          "data": {
            "text/html": [
              "<div>\n",
              "<style scoped>\n",
              "    .dataframe tbody tr th:only-of-type {\n",
              "        vertical-align: middle;\n",
              "    }\n",
              "\n",
              "    .dataframe tbody tr th {\n",
              "        vertical-align: top;\n",
              "    }\n",
              "\n",
              "    .dataframe thead th {\n",
              "        text-align: right;\n",
              "    }\n",
              "</style>\n",
              "<table border=\"1\" class=\"dataframe\">\n",
              "  <thead>\n",
              "    <tr style=\"text-align: right;\">\n",
              "      <th></th>\n",
              "      <th>N</th>\n",
              "      <th>t, sec</th>\n",
              "      <th>sigma_t, sec</th>\n",
              "      <th>mass, gramm</th>\n",
              "      <th>length, cm</th>\n",
              "      <th>phi, rad</th>\n",
              "    </tr>\n",
              "  </thead>\n",
              "  <tbody>\n",
              "    <tr>\n",
              "      <th>1</th>\n",
              "      <td>4</td>\n",
              "      <td>268</td>\n",
              "      <td>1</td>\n",
              "      <td>180.0</td>\n",
              "      <td>121.0</td>\n",
              "      <td>0.16</td>\n",
              "    </tr>\n",
              "    <tr>\n",
              "      <th>2</th>\n",
              "      <td>4</td>\n",
              "      <td>264</td>\n",
              "      <td>1</td>\n",
              "      <td>180.0</td>\n",
              "      <td>121.0</td>\n",
              "      <td>0.18</td>\n",
              "    </tr>\n",
              "    <tr>\n",
              "      <th>3</th>\n",
              "      <td>4</td>\n",
              "      <td>275</td>\n",
              "      <td>1</td>\n",
              "      <td>180.0</td>\n",
              "      <td>121.0</td>\n",
              "      <td>0.16</td>\n",
              "    </tr>\n",
              "    <tr>\n",
              "      <th>4</th>\n",
              "      <td>4</td>\n",
              "      <td>263</td>\n",
              "      <td>1</td>\n",
              "      <td>180.0</td>\n",
              "      <td>121.0</td>\n",
              "      <td>0.17</td>\n",
              "    </tr>\n",
              "    <tr>\n",
              "      <th>5</th>\n",
              "      <td>4</td>\n",
              "      <td>267</td>\n",
              "      <td>1</td>\n",
              "      <td>180.0</td>\n",
              "      <td>121.0</td>\n",
              "      <td>0.17</td>\n",
              "    </tr>\n",
              "  </tbody>\n",
              "</table>\n",
              "</div>"
            ],
            "text/plain": [
              "   N  t, sec  sigma_t, sec  mass, gramm  length, cm  phi, rad\n",
              "1  4     268             1        180.0       121.0      0.16\n",
              "2  4     264             1        180.0       121.0      0.18\n",
              "3  4     275             1        180.0       121.0      0.16\n",
              "4  4     263             1        180.0       121.0      0.17\n",
              "5  4     267             1        180.0       121.0      0.17"
            ]
          },
          "execution_count": 730,
          "metadata": {},
          "output_type": "execute_result"
        }
      ],
      "source": [
        "import pandas as pd\n",
        "\n",
        "data = {\n",
        "    'N': [4, 4, 4, 4, 4],\n",
        "    't, sec': [268, 264, 275, 263, 267],\n",
        "    'sigma_t, sec': [1, 1, 1, 1, 1],\n",
        "    'mass, gramm': [180.0, 180.0, 180.0, 180.0, 180.0],\n",
        "    'length, cm': [121.0, 121.0, 121.0, 121.0, 121.0],\n",
        "    'phi, rad': [0.16, 0.18, 0.16, 0.17, 0.17]\n",
        "}\n",
        "\n",
        "df = pd.DataFrame(data)\n",
        "\n",
        "print(df)"
      ]
    },
    {
      "cell_type": "markdown",
      "metadata": {
        "id": "rjZD-cOw7nms"
      },
      "source": [
        "## 2.2 Работа с данными"
      ]
    },
    {
      "cell_type": "markdown",
      "metadata": {
        "id": "DIUhNNUQxDQ1"
      },
      "source": [
        "Колонки в датафрейме следующие:\n",
        "\n",
        "N - количество полных оборотов гироскопа в эксперименте;\n",
        "\n",
        "t, в секундах - время эксперимента;\n",
        "\n",
        "$\\sigma_t$ - погрешность измерения времени;\n",
        "\n",
        "mass - масса груза, подвешенного к рычагу на гироскопе;\n",
        "\n",
        "length - длина плеча вышеупомянутого рычага;\n",
        "\n",
        "phi - угол в радианах, на который опустился рычаг за время эксперимента. Понадобится, чтобы оценить влияние силы трения в гироскопе на прецессию."
      ]
    },
    {
      "cell_type": "markdown",
      "metadata": {
        "id": "fnTCoIqdyDVF"
      },
      "source": [
        "Так как физики любят оперировать величинами адекватной размерности, нужно перевести колонки с массой в килограммы, а с длиной - в метры. Затем переименуйте все колонки так, чтобы в них не осталось упоминаний о размерности - только названия физических величин."
      ]
    },
    {
      "cell_type": "code",
      "execution_count": null,
      "metadata": {
        "id": "SidmSVzMyW_U"
      },
      "outputs": [],
      "source": [
        "import pandas as pd\n",
        "\n",
        "data = {\n",
        "    'N': [4, 4, 4, 4, 4],\n",
        "    't, sec': [268, 264, 275, 263, 267],\n",
        "    'sigma_t, sec': [1, 1, 1, 1, 1],\n",
        "    'mass, gramm': [180.0, 180.0, 180.0, 180.0, 180.0],\n",
        "    'length, cm': [121.0, 121.0, 121.0, 121.0, 121.0],\n",
        "    'phi, rad': [0.16, 0.18, 0.16, 0.17, 0.17]\n",
        "}\n",
        "\n",
        "df = pd.DataFrame(data)\n",
        "\n",
        "df['mass'] = df['mass, gramm'] / 1000\n",
        "\n",
        "df['length'] = df['length, cm'] / 100\n",
        "\n",
        "df = df.rename(columns={\n",
        "    'N': 'N',\n",
        "    't, sec': 'time',\n",
        "    'sigma_t, sec': 'time_error',\n",
        "    'mass, gramm': 'mass',\n",
        "    'length, cm': 'length',\n",
        "    'phi, rad': 'angle'\n",
        "})\n",
        "\n",
        "print(df)"
      ]
    },
    {
      "cell_type": "markdown",
      "metadata": {
        "id": "OQ-9VXH8l3wP"
      },
      "source": [
        "Добавьте в датафрейм колонки с соответствующими именами и значениями, вычисленными по формулам:\n",
        "\n",
        "`omega`: $\\Omega = 2 \\pi \\cdot \\frac{N}{t}$\n",
        "\n",
        "`sigma_omega`: $\\sigma_{\\Omega} = \\Omega / t \\cdot \\sigma_t$\n",
        "\n",
        "`omega_down`: $\\Omega_{down} = \\varphi / t$\n",
        "\n",
        "`sigma_down`: $\\Omega_{down} \\cdot \\sigma_t / t$\n",
        "\n",
        "`momentum`: $M = m \\cdot g \\cdot l$ (`g = 9.8 м/с^2`)\n",
        "\n",
        "`momentum_down`: $M_{down} = m \\cdot \\frac{\\varphi}{t^2} \\cdot l^2$\n",
        "\n",
        "`sigma_momentum`: $\\sigma_{M} = M_{down} \\cdot 2 \\cdot \\frac{\\sigma_t}{t}$\n"
      ]
    },
    {
      "cell_type": "code",
      "execution_count": null,
      "metadata": {
        "id": "32p3uQkhHxu1"
      },
      "outputs": [],
      "source": [
        "import pandas as pd\n",
        "import numpy as np\n",
        "\n",
        "data = {\n",
        "    'N': [4, 4, 4, 4, 4],\n",
        "    'time': [268, 264, 275, 263, 267],\n",
        "    'time_error': [1, 1, 1, 1, 1],\n",
        "    'mass': [0.18, 0.18, 0.18, 0.18, 0.18],\n",
        "    'length': [1.21, 1.21, 1.21, 1.21, 1.21],\n",
        "    'angle': [0.16, 0.18, 0.16, 0.17, 0.17]\n",
        "}\n",
        "\n",
        "df = pd.DataFrame(data)\n",
        "\n",
        "g = 9.8\n",
        "\n",
        "df['omega'] = (2 * np.pi * df['N']) / df['time']\n",
        "df['sigma_omega'] = (df['omega'] / df['time']) * df['time_error']\n",
        "df['omega_down'] = df['angle'] / df['time']\n",
        "df['sigma_down'] = (df['omega_down'] * df['time_error']) / df['time']\n",
        "df['momentum'] = df['mass'] * g * df['length']\n",
        "df['momentum_down'] = df['mass'] * df['angle'] * (df['time'] ** 2) / (df['length'] ** 2)\n",
        "df['sigma_momentum'] = df['momentum_down'] * 2 * df['time_error'] / df['time']\n",
        "\n",
        "print(df)\n"
      ]
    },
    {
      "cell_type": "markdown",
      "metadata": {
        "id": "rCFFceZCHxu1"
      },
      "source": [
        "Возможно, вы уже задались вопросом, для чего так много раз повторяются эксперименты с одной и той же массой. Чтобы получить более стабильные результаты, конечно же! Посчитайте теперь средние значения колонок `omega`, `sigma_omega`, `momentum` и`momentum_down` для каждой уникальной массы.\n",
        "\n",
        "**Подсказка:** функция groupby вам поможет. Никаких циклов!"
      ]
    },
    {
      "cell_type": "code",
      "execution_count": null,
      "metadata": {
        "id": "LfWPdeWkHxu1"
      },
      "outputs": [],
      "source": [
        "import pandas as pd\n",
        "import numpy as np\n",
        "\n",
        "data = {\n",
        "    'N': [4, 4, 4, 4, 4],\n",
        "    'time': [268, 264, 275, 263, 267],\n",
        "    'time_error': [1, 1, 1, 1, 1],\n",
        "    'mass': [0.18, 0.18, 0.18, 0.18, 0.18],\n",
        "    'length': [1.21, 1.21, 1.21, 1.21, 1.21],\n",
        "    'angle': [0.16, 0.18, 0.16, 0.17, 0.17]\n",
        "}\n",
        "\n",
        "df = pd.DataFrame(data)\n",
        "\n",
        "g = 9.8\n",
        "\n",
        "df['omega'] = (2 * np.pi * df['N']) / df['time']\n",
        "df['sigma_omega'] = (df['omega'] / df['time']) * df['time_error']\n",
        "df['omega_down'] = df['angle'] / df['time']\n",
        "df['sigma_down'] = (df['omega_down'] * df['time_error']) / df['time']\n",
        "df['momentum'] = df['mass'] * g * df['length']\n",
        "df['momentum_down'] = df['mass'] * df['angle'] * (df['time'] ** 2) / (df['length'] ** 2)\n",
        "df['sigma_momentum'] = df['momentum_down'] * 2 * df['time_error'] / df['time']\n",
        "\n",
        "averages = df.groupby('mass')[['omega', 'sigma_omega', 'momentum', 'momentum_down']].mean()\n",
        "\n",
        "print(averages)"
      ]
    },
    {
      "cell_type": "markdown",
      "metadata": {
        "id": "Swj1Ipg573q0"
      },
      "source": [
        "## 2.3 Простые графики и МНК"
      ]
    },
    {
      "cell_type": "markdown",
      "metadata": {
        "id": "R8j4vhCcHxu1"
      },
      "source": [
        "Теперь время для повторного знакомства с методом наименьших квадратов. Конечно же, мы не заставим вас писать МНК самостоятельно! <s>Мы же не звери</s>\n",
        "\n",
        "\n",
        "В numpy функция [np.polyfit](https://numpy.org/devdocs/reference/generated/numpy.polyfit.html) по `x`, `y` и степени `p` вычисляет многочлен заданной степени, являющийся МНК-оценкой зависимости `y(x)`.\n",
        "\n",
        "Функция [np.polyval](https://numpy.org/devdocs/reference/generated/numpy.polyval.html), в свою очередь, вычисляет многочлен `P(x)` по заданным коэффициентам.\n",
        "\n",
        "Ваша задача - построить график зависимости $\\Omega (M)$ угловой скорости от момента инерции. На графике должны присутствовать экспериментальные точки, а также прямая, построенная по методу наименьших квадратов. В легенду вынесите полином с записанными коэффициентами. Не забудьте подписать оси (14 шрифт), задать сетку и сделать правильный заголовок (18 шрифт)!"
      ]
    },
    {
      "cell_type": "markdown",
      "metadata": {
        "id": "kV523sdeI5ze"
      },
      "source": [
        "<center><img src='https://drive.google.com/uc?export=view&id=1xumON0195iA4HGSqvpS0FAhPGxuCdKH8' width=600>\n",
        "\n",
        "Пример получившегося графика</center>"
      ]
    },
    {
      "cell_type": "code",
      "execution_count": 19,
      "metadata": {
        "colab": {
          "base_uri": "https://localhost:8080/",
          "height": 207
        },
        "id": "eAoulUClHxu1",
        "outputId": "14010696-cd22-4a59-ebb7-1b39a4346879"
      },
      "outputs": [
        {
          "ename": "NameError",
          "evalue": "name 'grouped_data' is not defined",
          "output_type": "error",
          "traceback": [
            "\u001b[0;31m---------------------------------------------------------------------------\u001b[0m",
            "\u001b[0;31mNameError\u001b[0m                                 Traceback (most recent call last)",
            "\u001b[0;32m<ipython-input-19-cc75eb4c316f>\u001b[0m in \u001b[0;36m<cell line: 1>\u001b[0;34m()\u001b[0m\n\u001b[0;32m----> 1\u001b[0;31m \u001b[0momega_np\u001b[0m \u001b[0;34m=\u001b[0m \u001b[0mnp\u001b[0m\u001b[0;34m.\u001b[0m\u001b[0marray\u001b[0m\u001b[0;34m(\u001b[0m\u001b[0mgrouped_data\u001b[0m\u001b[0;34m.\u001b[0m\u001b[0momega\u001b[0m\u001b[0;34m)\u001b[0m\u001b[0;34m\u001b[0m\u001b[0;34m\u001b[0m\u001b[0m\n\u001b[0m\u001b[1;32m      2\u001b[0m \u001b[0mmomentum_np\u001b[0m \u001b[0;34m=\u001b[0m \u001b[0mnp\u001b[0m\u001b[0;34m.\u001b[0m\u001b[0marray\u001b[0m\u001b[0;34m(\u001b[0m\u001b[0mgrouped_data\u001b[0m\u001b[0;34m.\u001b[0m\u001b[0mmomentum\u001b[0m\u001b[0;34m)\u001b[0m\u001b[0;34m\u001b[0m\u001b[0;34m\u001b[0m\u001b[0m\n\u001b[1;32m      3\u001b[0m \u001b[0;34m\u001b[0m\u001b[0m\n\u001b[1;32m      4\u001b[0m \u001b[0;34m\u001b[0m\u001b[0m\n\u001b[1;32m      5\u001b[0m \u001b[0mx_lsq\u001b[0m \u001b[0;34m=\u001b[0m \u001b[0mnp\u001b[0m\u001b[0;34m.\u001b[0m\u001b[0mlinspace\u001b[0m\u001b[0;34m(\u001b[0m\u001b[0mmomentum_np\u001b[0m\u001b[0;34m.\u001b[0m\u001b[0mmin\u001b[0m\u001b[0;34m(\u001b[0m\u001b[0;34m)\u001b[0m \u001b[0;34m*\u001b[0m \u001b[0;36m0.5\u001b[0m\u001b[0;34m,\u001b[0m \u001b[0mmomentum_np\u001b[0m\u001b[0;34m.\u001b[0m\u001b[0mmax\u001b[0m\u001b[0;34m(\u001b[0m\u001b[0;34m)\u001b[0m \u001b[0;34m*\u001b[0m \u001b[0;36m1.1\u001b[0m\u001b[0;34m,\u001b[0m \u001b[0;36m100\u001b[0m\u001b[0;34m)\u001b[0m\u001b[0;34m\u001b[0m\u001b[0;34m\u001b[0m\u001b[0m\n",
            "\u001b[0;31mNameError\u001b[0m: name 'grouped_data' is not defined"
          ]
        }
      ],
      "source": [
        "omega_np = np.array(grouped_data.omega)\n",
        "momentum_np = np.array(grouped_data.momentum)\n",
        "\n",
        "\n",
        "x_lsq = np.linspace(momentum_np.min() * 0.5, momentum_np.max() * 1.1, 100)\n",
        "\n",
        "fig = plt.figure(figsize=(12, 8))\n",
        "\n",
        "coefs = np.polyfit(momentum_np, omega_np, 1)\n",
        "y_lsq = np.polyval(coefs, x_lsq)\n",
        "\n",
        "fig = plt.figure(figsize=(12, 8))\n",
        "plt.plot(momentum_np, omega_np, 'o', label='Experimental data')\n",
        "plt.plot(x_lsq, y_lsq, '-', label=f'Fit: y = {coefs[0]:.2f}x + {coefs[1]:.2f}')\n",
        "plt.xlabel('Momentum (kg*m^2/s)', fontsize=14)\n",
        "plt.ylabel('Omega (rad/s)', fontsize=14)\n",
        "plt.title('Angular Velocity vs. Momentum', fontsize=18)\n",
        "plt.grid(True)\n",
        "plt.legend()\n",
        "plt.show()\n",
        "\n"
      ]
    },
    {
      "cell_type": "markdown",
      "metadata": {
        "id": "soMU7vrHHxu2"
      },
      "source": [
        "`np.polyfit` также умеет оценивать погрешности! Если точнее, он возвращает матрицу ковариаций для метода наименьших квадратов. Не будем углубляться в математику, главное знать, что на диагонали у неё стоят дисперсии полученных коэффициентов. Для получения собственно погрешности $\\sigma$ необходимо взять корень из этих дисперсий.\n",
        "\n",
        "Также стоит упомянуть про параметр `W`, задающий веса точек для оценки. Если известны ошибки $y_{error}$, можно задать веса как $W = 1 / y_{error}$, и прямая получится ещё более точной. Чтобы учесть ещё и ошибки по $x$, нужны, к сожалению, уже другие методы (но скорее всего, вам не понадобятся даже ошибки по $y$)."
      ]
    },
    {
      "cell_type": "markdown",
      "metadata": {
        "id": "VE5lr50DHxu2"
      },
      "source": [
        "Представим, что произошла неприятность, и погрешности возросли в 10 раз!"
      ]
    },
    {
      "cell_type": "code",
      "execution_count": 7,
      "metadata": {
        "colab": {
          "base_uri": "https://localhost:8080/",
          "height": 797
        },
        "id": "E-t75UCcHxu3",
        "outputId": "98749236-b839-40fa-f801-2f8ce1605e6c"
      },
      "outputs": [
        {
          "data": {
            "image/png": "[encoded data removed]",
            "text/plain": [
              "<Figure size 1000x600 with 1 Axes>"
            ]
          },
          "metadata": {},
          "output_type": "display_data"
        },
        {
          "name": "stdout",
          "output_type": "stream",
          "text": [
            "Коэффициенты прямой: a = 0.02, b = 0.05\n"
          ]
        },
        {
          "ename": "IndexError",
          "evalue": "index 0 is out of bounds for axis 0 with size 0",
          "output_type": "error",
          "traceback": [
            "\u001b[0;31m---------------------------------------------------------------------------\u001b[0m",
            "\u001b[0;31mIndexError\u001b[0m                                Traceback (most recent call last)",
            "\u001b[0;32m<ipython-input-7-27ca5ceaa3e9>\u001b[0m in \u001b[0;36m<cell line: 55>\u001b[0;34m()\u001b[0m\n\u001b[1;32m     53\u001b[0m \u001b[0;34m\u001b[0m\u001b[0m\n\u001b[1;32m     54\u001b[0m \u001b[0mprint\u001b[0m\u001b[0;34m(\u001b[0m\u001b[0;34mf'Коэффициенты прямой: a = {p[0]:.2f}, b = {p[1]:.2f}'\u001b[0m\u001b[0;34m)\u001b[0m\u001b[0;34m\u001b[0m\u001b[0;34m\u001b[0m\u001b[0m\n\u001b[0;32m---> 55\u001b[0;31m \u001b[0mprint\u001b[0m\u001b[0;34m(\u001b[0m\u001b[0;34mf'Погрешности для коэффициентов: σa = {errors[0]:.2f}, σb = {errors[1]:.2f}'\u001b[0m\u001b[0;34m)\u001b[0m\u001b[0;34m\u001b[0m\u001b[0;34m\u001b[0m\u001b[0m\n\u001b[0m\u001b[1;32m     56\u001b[0m \u001b[0;34m\u001b[0m\u001b[0m\n",
            "\u001b[0;31mIndexError\u001b[0m: index 0 is out of bounds for axis 0 with size 0"
          ]
        }
      ],
      "source": [
        "grouped_data['sigma_down'] *= 10\n",
        "grouped_data['sigma_momentum'] *= 10\n"
      ]
    },
    {
      "cell_type": "markdown",
      "metadata": {
        "id": "s8HQkGB3Hxu3"
      },
      "source": [
        "\n",
        "\n",
        "Теперь вам нужно нарисовать график зависимости $\\Omega_{down} (M_{down})$ <b>(не $\\Omega(M)$!)</b> для точек с крестами погрешностей, а также построить не только прямую по оценке наименьших квадратов, а ещё и учесть погрешности оценок коэффициентов! Т.е. нужно построить три прямых: $k \\cdot x + b$, которую выдал МНК, $(k - \\sigma_k) \\cdot x + (b - \\sigma_b)$, $(k + \\sigma_k) \\cdot x + (b + \\sigma_b)$, и закрасить промежуток между этими прямыми (в этом вам поможет функция plt.fill_between). Остальное оформление оставьте таким же, как в предыдущем задании.\n",
        "\n",
        "_Примечание: часто в МНК не смотрят на погрешность $b$, оставляя только $\\sigma_k$._"
      ]
    },
    {
      "cell_type": "markdown",
      "metadata": {
        "id": "Js6sF_UpKCkw"
      },
      "source": [
        "<center><img src='https://drive.google.com/uc?export=view&id=1SriaMzJah7F610ocIK_O1-HqqtMQgxlg' width=600>\n",
        "\n",
        "Пример получившегося графика</center>"
      ]
    },
    {
      "cell_type": "code",
      "execution_count": 8,
      "metadata": {
        "colab": {
          "base_uri": "https://localhost:8080/",
          "height": 207
        },
        "id": "dLdKIUCRHxu3",
        "outputId": "16724fdc-5e00-4021-e46b-262ac2543617"
      },
      "outputs": [
        {
          "ename": "ValueError",
          "evalue": "too many values to unpack (expected 2)",
          "output_type": "error",
          "traceback": [
            "\u001b[0;31m---------------------------------------------------------------------------\u001b[0m",
            "\u001b[0;31mValueError\u001b[0m                                Traceback (most recent call last)",
            "\u001b[0;32m<ipython-input-8-2121845d8614>\u001b[0m in \u001b[0;36m<cell line: 44>\u001b[0;34m()\u001b[0m\n\u001b[1;32m     42\u001b[0m \u001b[0;34m\u001b[0m\u001b[0m\n\u001b[1;32m     43\u001b[0m \u001b[0;31m# Применяем метод наименьших квадратов для нахождения прямой с учетом весов\u001b[0m\u001b[0;34m\u001b[0m\u001b[0;34m\u001b[0m\u001b[0m\n\u001b[0;32m---> 44\u001b[0;31m \u001b[0mp\u001b[0m\u001b[0;34m,\u001b[0m \u001b[0mcov\u001b[0m \u001b[0;34m=\u001b[0m \u001b[0mnp\u001b[0m\u001b[0;34m.\u001b[0m\u001b[0mpolyfit\u001b[0m\u001b[0;34m(\u001b[0m\u001b[0mx\u001b[0m\u001b[0;34m,\u001b[0m \u001b[0my\u001b[0m\u001b[0;34m,\u001b[0m \u001b[0;36m1\u001b[0m\u001b[0;34m,\u001b[0m \u001b[0mw\u001b[0m\u001b[0;34m=\u001b[0m\u001b[0mweights\u001b[0m\u001b[0;34m,\u001b[0m \u001b[0mfull\u001b[0m\u001b[0;34m=\u001b[0m\u001b[0;32mTrue\u001b[0m\u001b[0;34m)\u001b[0m  \u001b[0;31m# Степень 1 (прямая)\u001b[0m\u001b[0;34m\u001b[0m\u001b[0;34m\u001b[0m\u001b[0m\n\u001b[0m\u001b[1;32m     45\u001b[0m \u001b[0;34m\u001b[0m\u001b[0m\n\u001b[1;32m     46\u001b[0m \u001b[0;31m# Извлекаем погрешности для коэффициентов\u001b[0m\u001b[0;34m\u001b[0m\u001b[0;34m\u001b[0m\u001b[0m\n",
            "\u001b[0;31mValueError\u001b[0m: too many values to unpack (expected 2)"
          ]
        }
      ],
      "source": [
        "omega_down_np = np.array(grouped_data.omega_down)\n",
        "momentum_down_np = np.array(grouped_data.momentum_down)\n",
        "\n",
        "coefs, cov = np.polyfit(momentum_down_np, omega_down_np, 1, cov=True)\n",
        "\n",
        "x_lsq = np.linspace(momentum_down_np.min() * 0.3, momentum_down_np.max() * 1.1, 100)\n",
        "\n",
        "lsq_stds = np.sqrt(np.diag(cov))\n",
        "\n",
        "y_lsq = np.polyval(coefs, x_lsq)\n",
        "y_lsq_lower = np.polyval([coefs[0] - lsq_stds[0], coefs[1] - lsq_stds[1]], x_lsq)\n",
        "y_lsq_upper = np.polyval([coefs[0] + lsq_stds[0], coefs[1] + lsq_stds[1]], x_lsq)\n",
        "\n",
        "fig = plt.figure(figsize=(12, 8))\n",
        "plt.errorbar(momentum_down_np, omega_down_np, yerr=grouped_data.sigma_down, fmt='o', label='Experimental data')\n",
        "plt.plot(x_lsq, y_lsq, '-', label=f'Fit: y = {coefs[0]:.2f}x + {coefs[1]:.2f}')\n",
        "plt.fill_between(x_lsq, y_lsq_lower, y_lsq_upper, color='gray', alpha=0.2, label='Confidence interval')\n",
        "plt.xlabel('Momentum Down (kg*m^2/s^2)', fontsize=14)\n",
        "plt.ylabel('Omega Down (rad/s)', fontsize=14)\n",
        "plt.title('Omega Down vs. Momentum Down', fontsize=18)\n",
        "plt.grid(True)\n",
        "plt.legend()\n",
        "plt.show()"
      ]
    },
    {
      "cell_type": "markdown",
      "metadata": {
        "id": "FqLjEbi2M4rE"
      },
      "source": [
        "# 3. Работа с датасетом (3 балла)"
      ]
    },
    {
      "cell_type": "markdown",
      "metadata": {
        "id": "mrXNzj1vSxMi"
      },
      "source": [
        "Датасет ирисов использовался в статье Р.А. Фишера 1936 года «Использование множественных измерений в таксономических задачах», а в наши дни часто используется начинающими аналитиками данных.\n",
        "\n",
        "В наборе данных включены три вида ирисов по 50 образцов каждый, а также некоторые свойства каждого цветка. Один вид цветка линейно отделим от двух других, но два других не отделимы линейно друг от друга.\n",
        "\n",
        "Столбцы в этом датасете:\n",
        "\n",
        "Идентификатор (Id) \\\\\n",
        "Длина чашелистика, см (SepalLengthCm) \\\\\n",
        "Ширина чашелистика, см (SepalWidthCm) \\\\\n",
        "Длина лепестка, см (PetalLengthCm) \\\\\n",
        "Ширина лепестка, см (PetalWidthCm) \\\\\n",
        "Вид (Species) \\\\\n",
        "\n",
        "<font color='red'>ВНИМАНИЕ!</font> Все графики в этой части должны быть подписаны, а на осях должны быть подписи на русском языке."
      ]
    },
    {
      "cell_type": "code",
      "execution_count": null,
      "metadata": {
        "id": "NESWENOWa7og"
      },
      "outputs": [],
      "source": [
        "sns.set_style(\"darkgrid\")"
      ]
    },
    {
      "cell_type": "code",
      "execution_count": null,
      "metadata": {
        "colab": {
          "base_uri": "https://localhost:8080/",
          "height": 206
        },
        "id": "AlQQAZVbUGFw",
        "outputId": "9ca764f5-ff70-4a00-d619-ed0dc3885a89"
      },
      "outputs": [
        {
          "data": {
            "application/vnd.google.colaboratory.intrinsic+json": {
              "summary": "{\n  \"name\": \"iris\",\n  \"rows\": 150,\n  \"fields\": [\n    {\n      \"column\": \"Id\",\n      \"properties\": {\n        \"dtype\": \"number\",\n        \"std\": 43,\n        \"min\": 1,\n        \"max\": 150,\n        \"num_unique_values\": 150,\n        \"samples\": [\n          74,\n          19,\n          119\n        ],\n        \"semantic_type\": \"\",\n        \"description\": \"\"\n      }\n    },\n    {\n      \"column\": \"SepalLengthCm\",\n      \"properties\": {\n        \"dtype\": \"number\",\n        \"std\": 0.8280661279778629,\n        \"min\": 4.3,\n        \"max\": 7.9,\n        \"num_unique_values\": 35,\n        \"samples\": [\n          6.2,\n          4.5,\n          5.6\n        ],\n        \"semantic_type\": \"\",\n        \"description\": \"\"\n      }\n    },\n    {\n      \"column\": \"SepalWidthCm\",\n      \"properties\": {\n        \"dtype\": \"number\",\n        \"std\": 0.4335943113621737,\n        \"min\": 2.0,\n        \"max\": 4.4,\n        \"num_unique_values\": 23,\n        \"samples\": [\n          2.3,\n          4.0,\n          3.5\n        ],\n        \"semantic_type\": \"\",\n        \"description\": \"\"\n      }\n    },\n    {\n      \"column\": \"PetalLengthCm\",\n      \"properties\": {\n        \"dtype\": \"number\",\n        \"std\": 1.7644204199522617,\n        \"min\": 1.0,\n        \"max\": 6.9,\n        \"num_unique_values\": 43,\n        \"samples\": [\n          6.7,\n          3.8,\n          3.7\n        ],\n        \"semantic_type\": \"\",\n        \"description\": \"\"\n      }\n    },\n    {\n      \"column\": \"PetalWidthCm\",\n      \"properties\": {\n        \"dtype\": \"number\",\n        \"std\": 0.7631607417008414,\n        \"min\": 0.1,\n        \"max\": 2.5,\n        \"num_unique_values\": 22,\n        \"samples\": [\n          0.2,\n          1.2,\n          1.3\n        ],\n        \"semantic_type\": \"\",\n        \"description\": \"\"\n      }\n    },\n    {\n      \"column\": \"Species\",\n      \"properties\": {\n        \"dtype\": \"category\",\n        \"num_unique_values\": 3,\n        \"samples\": [\n          \"Iris-setosa\",\n          \"Iris-versicolor\",\n          \"Iris-virginica\"\n        ],\n        \"semantic_type\": \"\",\n        \"description\": \"\"\n      }\n    }\n  ]\n}",
              "type": "dataframe",
              "variable_name": "iris"
            },
            "text/html": [
              "\n",
              "  <div id=\"df-e822ff8e-9df1-4759-9b64-80a0c48ce208\" class=\"colab-df-container\">\n",
              "    <div>\n",
              "<style scoped>\n",
              "    .dataframe tbody tr th:only-of-type {\n",
              "        vertical-align: middle;\n",
              "    }\n",
              "\n",
              "    .dataframe tbody tr th {\n",
              "        vertical-align: top;\n",
              "    }\n",
              "\n",
              "    .dataframe thead th {\n",
              "        text-align: right;\n",
              "    }\n",
              "</style>\n",
              "<table border=\"1\" class=\"dataframe\">\n",
              "  <thead>\n",
              "    <tr style=\"text-align: right;\">\n",
              "      <th></th>\n",
              "      <th>Id</th>\n",
              "      <th>SepalLengthCm</th>\n",
              "      <th>SepalWidthCm</th>\n",
              "      <th>PetalLengthCm</th>\n",
              "      <th>PetalWidthCm</th>\n",
              "      <th>Species</th>\n",
              "    </tr>\n",
              "  </thead>\n",
              "  <tbody>\n",
              "    <tr>\n",
              "      <th>0</th>\n",
              "      <td>1</td>\n",
              "      <td>5.1</td>\n",
              "      <td>3.5</td>\n",
              "      <td>1.4</td>\n",
              "      <td>0.2</td>\n",
              "      <td>Iris-setosa</td>\n",
              "    </tr>\n",
              "    <tr>\n",
              "      <th>1</th>\n",
              "      <td>2</td>\n",
              "      <td>4.9</td>\n",
              "      <td>3.0</td>\n",
              "      <td>1.4</td>\n",
              "      <td>0.2</td>\n",
              "      <td>Iris-setosa</td>\n",
              "    </tr>\n",
              "    <tr>\n",
              "      <th>2</th>\n",
              "      <td>3</td>\n",
              "      <td>4.7</td>\n",
              "      <td>3.2</td>\n",
              "      <td>1.3</td>\n",
              "      <td>0.2</td>\n",
              "      <td>Iris-setosa</td>\n",
              "    </tr>\n",
              "    <tr>\n",
              "      <th>3</th>\n",
              "      <td>4</td>\n",
              "      <td>4.6</td>\n",
              "      <td>3.1</td>\n",
              "      <td>1.5</td>\n",
              "      <td>0.2</td>\n",
              "      <td>Iris-setosa</td>\n",
              "    </tr>\n",
              "    <tr>\n",
              "      <th>4</th>\n",
              "      <td>5</td>\n",
              "      <td>5.0</td>\n",
              "      <td>3.6</td>\n",
              "      <td>1.4</td>\n",
              "      <td>0.2</td>\n",
              "      <td>Iris-setosa</td>\n",
              "    </tr>\n",
              "  </tbody>\n",
              "</table>\n",
              "</div>\n",
              "    <div class=\"colab-df-buttons\">\n",
              "\n",
              "  <div class=\"colab-df-container\">\n",
              "    <button class=\"colab-df-convert\" onclick=\"convertToInteractive('df-e822ff8e-9df1-4759-9b64-80a0c48ce208')\"\n",
              "            title=\"Convert this dataframe to an interactive table.\"\n",
              "            style=\"display:none;\">\n",
              "\n",
              "  <svg xmlns=\"http://www.w3.org/2000/svg\" height=\"24px\" viewBox=\"0 -960 960 960\">\n",
              "    <path d=\"M120-120v-720h720v720H120Zm60-500h600v-160H180v160Zm220 220h160v-160H400v160Zm0 220h160v-160H400v160ZM180-400h160v-160H180v160Zm440 0h160v-160H620v160ZM180-180h160v-160H180v160Zm440 0h160v-160H620v160Z\"/>\n",
              "  </svg>\n",
              "    </button>\n",
              "\n",
              "  <style>\n",
              "    .colab-df-container {\n",
              "      display:flex;\n",
              "      gap: 12px;\n",
              "    }\n",
              "\n",
              "    .colab-df-convert {\n",
              "      background-color: #E8F0FE;\n",
              "      border: none;\n",
              "      border-radius: 50%;\n",
              "      cursor: pointer;\n",
              "      display: none;\n",
              "      fill: #1967D2;\n",
              "      height: 32px;\n",
              "      padding: 0 0 0 0;\n",
              "      width: 32px;\n",
              "    }\n",
              "\n",
              "    .colab-df-convert:hover {\n",
              "      background-color: #E2EBFA;\n",
              "      box-shadow: 0px 1px 2px rgba(60, 64, 67, 0.3), 0px 1px 3px 1px rgba(60, 64, 67, 0.15);\n",
              "      fill: #174EA6;\n",
              "    }\n",
              "\n",
              "    .colab-df-buttons div {\n",
              "      margin-bottom: 4px;\n",
              "    }\n",
              "\n",
              "    [theme=dark] .colab-df-convert {\n",
              "      background-color: #3B4455;\n",
              "      fill: #D2E3FC;\n",
              "    }\n",
              "\n",
              "    [theme=dark] .colab-df-convert:hover {\n",
              "      background-color: #434B5C;\n",
              "      box-shadow: 0px 1px 3px 1px rgba(0, 0, 0, 0.15);\n",
              "      filter: drop-shadow(0px 1px 2px rgba(0, 0, 0, 0.3));\n",
              "      fill: #FFFFFF;\n",
              "    }\n",
              "  </style>\n",
              "\n",
              "    <script>\n",
              "      const buttonEl =\n",
              "        document.querySelector('#df-e822ff8e-9df1-4759-9b64-80a0c48ce208 button.colab-df-convert');\n",
              "      buttonEl.style.display =\n",
              "        google.colab.kernel.accessAllowed ? 'block' : 'none';\n",
              "\n",
              "      async function convertToInteractive(key) {\n",
              "        const element = document.querySelector('#df-e822ff8e-9df1-4759-9b64-80a0c48ce208');\n",
              "        const dataTable =\n",
              "          await google.colab.kernel.invokeFunction('convertToInteractive',\n",
              "                                                    [key], {});\n",
              "        if (!dataTable) return;\n",
              "\n",
              "        const docLinkHtml = 'Like what you see? Visit the ' +\n",
              "          '<a target=\"_blank\" href=https://colab.research.google.com/notebooks/data_table.ipynb>data table notebook</a>'\n",
              "          + ' to learn more about interactive tables.';\n",
              "        element.innerHTML = '';\n",
              "        dataTable['output_type'] = 'display_data';\n",
              "        await google.colab.output.renderOutput(dataTable, element);\n",
              "        const docLink = document.createElement('div');\n",
              "        docLink.innerHTML = docLinkHtml;\n",
              "        element.appendChild(docLink);\n",
              "      }\n",
              "    </script>\n",
              "  </div>\n",
              "\n",
              "\n",
              "<div id=\"df-723cae06-ca78-458a-8e2f-396d0d030629\">\n",
              "  <button class=\"colab-df-quickchart\" onclick=\"quickchart('df-723cae06-ca78-458a-8e2f-396d0d030629')\"\n",
              "            title=\"Suggest charts\"\n",
              "            style=\"display:none;\">\n",
              "\n",
              "<svg xmlns=\"http://www.w3.org/2000/svg\" height=\"24px\"viewBox=\"0 0 24 24\"\n",
              "     width=\"24px\">\n",
              "    <g>\n",
              "        <path d=\"M19 3H5c-1.1 0-2 .9-2 2v14c0 1.1.9 2 2 2h14c1.1 0 2-.9 2-2V5c0-1.1-.9-2-2-2zM9 17H7v-7h2v7zm4 0h-2V7h2v10zm4 0h-2v-4h2v4z\"/>\n",
              "    </g>\n",
              "</svg>\n",
              "  </button>\n",
              "\n",
              "<style>\n",
              "  .colab-df-quickchart {\n",
              "      --bg-color: #E8F0FE;\n",
              "      --fill-color: #1967D2;\n",
              "      --hover-bg-color: #E2EBFA;\n",
              "      --hover-fill-color: #174EA6;\n",
              "      --disabled-fill-color: #AAA;\n",
              "      --disabled-bg-color: #DDD;\n",
              "  }\n",
              "\n",
              "  [theme=dark] .colab-df-quickchart {\n",
              "      --bg-color: #3B4455;\n",
              "      --fill-color: #D2E3FC;\n",
              "      --hover-bg-color: #434B5C;\n",
              "      --hover-fill-color: #FFFFFF;\n",
              "      --disabled-bg-color: #3B4455;\n",
              "      --disabled-fill-color: #666;\n",
              "  }\n",
              "\n",
              "  .colab-df-quickchart {\n",
              "    background-color: var(--bg-color);\n",
              "    border: none;\n",
              "    border-radius: 50%;\n",
              "    cursor: pointer;\n",
              "    display: none;\n",
              "    fill: var(--fill-color);\n",
              "    height: 32px;\n",
              "    padding: 0;\n",
              "    width: 32px;\n",
              "  }\n",
              "\n",
              "  .colab-df-quickchart:hover {\n",
              "    background-color: var(--hover-bg-color);\n",
              "    box-shadow: 0 1px 2px rgba(60, 64, 67, 0.3), 0 1px 3px 1px rgba(60, 64, 67, 0.15);\n",
              "    fill: var(--button-hover-fill-color);\n",
              "  }\n",
              "\n",
              "  .colab-df-quickchart-complete:disabled,\n",
              "  .colab-df-quickchart-complete:disabled:hover {\n",
              "    background-color: var(--disabled-bg-color);\n",
              "    fill: var(--disabled-fill-color);\n",
              "    box-shadow: none;\n",
              "  }\n",
              "\n",
              "  .colab-df-spinner {\n",
              "    border: 2px solid var(--fill-color);\n",
              "    border-color: transparent;\n",
              "    border-bottom-color: var(--fill-color);\n",
              "    animation:\n",
              "      spin 1s steps(1) infinite;\n",
              "  }\n",
              "\n",
              "  @keyframes spin {\n",
              "    0% {\n",
              "      border-color: transparent;\n",
              "      border-bottom-color: var(--fill-color);\n",
              "      border-left-color: var(--fill-color);\n",
              "    }\n",
              "    20% {\n",
              "      border-color: transparent;\n",
              "      border-left-color: var(--fill-color);\n",
              "      border-top-color: var(--fill-color);\n",
              "    }\n",
              "    30% {\n",
              "      border-color: transparent;\n",
              "      border-left-color: var(--fill-color);\n",
              "      border-top-color: var(--fill-color);\n",
              "      border-right-color: var(--fill-color);\n",
              "    }\n",
              "    40% {\n",
              "      border-color: transparent;\n",
              "      border-right-color: var(--fill-color);\n",
              "      border-top-color: var(--fill-color);\n",
              "    }\n",
              "    60% {\n",
              "      border-color: transparent;\n",
              "      border-right-color: var(--fill-color);\n",
              "    }\n",
              "    80% {\n",
              "      border-color: transparent;\n",
              "      border-right-color: var(--fill-color);\n",
              "      border-bottom-color: var(--fill-color);\n",
              "    }\n",
              "    90% {\n",
              "      border-color: transparent;\n",
              "      border-bottom-color: var(--fill-color);\n",
              "    }\n",
              "  }\n",
              "</style>\n",
              "\n",
              "  <script>\n",
              "    async function quickchart(key) {\n",
              "      const quickchartButtonEl =\n",
              "        document.querySelector('#' + key + ' button');\n",
              "      quickchartButtonEl.disabled = true;  // To prevent multiple clicks.\n",
              "      quickchartButtonEl.classList.add('colab-df-spinner');\n",
              "      try {\n",
              "        const charts = await google.colab.kernel.invokeFunction(\n",
              "            'suggestCharts', [key], {});\n",
              "      } catch (error) {\n",
              "        console.error('Error during call to suggestCharts:', error);\n",
              "      }\n",
              "      quickchartButtonEl.classList.remove('colab-df-spinner');\n",
              "      quickchartButtonEl.classList.add('colab-df-quickchart-complete');\n",
              "    }\n",
              "    (() => {\n",
              "      let quickchartButtonEl =\n",
              "        document.querySelector('#df-723cae06-ca78-458a-8e2f-396d0d030629 button');\n",
              "      quickchartButtonEl.style.display =\n",
              "        google.colab.kernel.accessAllowed ? 'block' : 'none';\n",
              "    })();\n",
              "  </script>\n",
              "</div>\n",
              "    </div>\n",
              "  </div>\n"
            ],
            "text/plain": [
              "   Id  SepalLengthCm  SepalWidthCm  PetalLengthCm  PetalWidthCm      Species\n",
              "0   1            5.1           3.5            1.4           0.2  Iris-setosa\n",
              "1   2            4.9           3.0            1.4           0.2  Iris-setosa\n",
              "2   3            4.7           3.2            1.3           0.2  Iris-setosa\n",
              "3   4            4.6           3.1            1.5           0.2  Iris-setosa\n",
              "4   5            5.0           3.6            1.4           0.2  Iris-setosa"
            ]
          },
          "execution_count": 6,
          "metadata": {},
          "output_type": "execute_result"
        }
      ],
      "source": [
        "import pandas as pd\n",
        "\n",
        "data = {\n",
        "    \"Id\": [1, 2, 3, 4, 5],\n",
        "    \"SepalLengthCm\": [5.1, 4.9, 4.7, 4.6, 5.0],\n",
        "    \"SepalWidthCm\": [3.5, 3.0, 3.2, 3.1, 3.6],\n",
        "    \"PetalLengthCm\": [1.4, 1.4, 1.3, 1.5, 1.4],\n",
        "    \"PetalWidthCm\": [0.2, 0.2, 0.2, 0.2, 0.2],\n",
        "    \"Species\": [\"Iris-setosa\"] * 5\n",
        "}\n",
        "\n",
        "df = pd.DataFrame(data)\n",
        "\n",
        "print(df)"
      ]
    },
    {
      "cell_type": "code",
      "execution_count": null,
      "metadata": {
        "colab": {
          "base_uri": "https://localhost:8080/",
          "height": 206
        },
        "id": "oDcVUiPbUfOa",
        "outputId": "d8d679c1-34f8-4c1f-b5e4-c5d05864f5cd"
      },
      "outputs": [
        {
          "data": {
            "application/vnd.google.colaboratory.intrinsic+json": {
              "summary": "{\n  \"name\": \"iris\",\n  \"rows\": 150,\n  \"fields\": [\n    {\n      \"column\": \"SepalLengthCm\",\n      \"properties\": {\n        \"dtype\": \"number\",\n        \"std\": 0.8280661279778629,\n        \"min\": 4.3,\n        \"max\": 7.9,\n        \"num_unique_values\": 35,\n        \"samples\": [\n          6.2,\n          4.5,\n          5.6\n        ],\n        \"semantic_type\": \"\",\n        \"description\": \"\"\n      }\n    },\n    {\n      \"column\": \"SepalWidthCm\",\n      \"properties\": {\n        \"dtype\": \"number\",\n        \"std\": 0.4335943113621737,\n        \"min\": 2.0,\n        \"max\": 4.4,\n        \"num_unique_values\": 23,\n        \"samples\": [\n          2.3,\n          4.0,\n          3.5\n        ],\n        \"semantic_type\": \"\",\n        \"description\": \"\"\n      }\n    },\n    {\n      \"column\": \"PetalLengthCm\",\n      \"properties\": {\n        \"dtype\": \"number\",\n        \"std\": 1.7644204199522617,\n        \"min\": 1.0,\n        \"max\": 6.9,\n        \"num_unique_values\": 43,\n        \"samples\": [\n          6.7,\n          3.8,\n          3.7\n        ],\n        \"semantic_type\": \"\",\n        \"description\": \"\"\n      }\n    },\n    {\n      \"column\": \"PetalWidthCm\",\n      \"properties\": {\n        \"dtype\": \"number\",\n        \"std\": 0.7631607417008414,\n        \"min\": 0.1,\n        \"max\": 2.5,\n        \"num_unique_values\": 22,\n        \"samples\": [\n          0.2,\n          1.2,\n          1.3\n        ],\n        \"semantic_type\": \"\",\n        \"description\": \"\"\n      }\n    },\n    {\n      \"column\": \"Species\",\n      \"properties\": {\n        \"dtype\": \"category\",\n        \"num_unique_values\": 3,\n        \"samples\": [\n          \"Iris-setosa\",\n          \"Iris-versicolor\",\n          \"Iris-virginica\"\n        ],\n        \"semantic_type\": \"\",\n        \"description\": \"\"\n      }\n    }\n  ]\n}",
              "type": "dataframe",
              "variable_name": "iris"
            },
            "text/html": [
              "\n",
              "  <div id=\"df-074bae3a-d6d8-40bb-be15-26f9bec74021\" class=\"colab-df-container\">\n",
              "    <div>\n",
              "<style scoped>\n",
              "    .dataframe tbody tr th:only-of-type {\n",
              "        vertical-align: middle;\n",
              "    }\n",
              "\n",
              "    .dataframe tbody tr th {\n",
              "        vertical-align: top;\n",
              "    }\n",
              "\n",
              "    .dataframe thead th {\n",
              "        text-align: right;\n",
              "    }\n",
              "</style>\n",
              "<table border=\"1\" class=\"dataframe\">\n",
              "  <thead>\n",
              "    <tr style=\"text-align: right;\">\n",
              "      <th></th>\n",
              "      <th>SepalLengthCm</th>\n",
              "      <th>SepalWidthCm</th>\n",
              "      <th>PetalLengthCm</th>\n",
              "      <th>PetalWidthCm</th>\n",
              "      <th>Species</th>\n",
              "    </tr>\n",
              "  </thead>\n",
              "  <tbody>\n",
              "    <tr>\n",
              "      <th>0</th>\n",
              "      <td>5.1</td>\n",
              "      <td>3.5</td>\n",
              "      <td>1.4</td>\n",
              "      <td>0.2</td>\n",
              "      <td>Iris-setosa</td>\n",
              "    </tr>\n",
              "    <tr>\n",
              "      <th>1</th>\n",
              "      <td>4.9</td>\n",
              "      <td>3.0</td>\n",
              "      <td>1.4</td>\n",
              "      <td>0.2</td>\n",
              "      <td>Iris-setosa</td>\n",
              "    </tr>\n",
              "    <tr>\n",
              "      <th>2</th>\n",
              "      <td>4.7</td>\n",
              "      <td>3.2</td>\n",
              "      <td>1.3</td>\n",
              "      <td>0.2</td>\n",
              "      <td>Iris-setosa</td>\n",
              "    </tr>\n",
              "    <tr>\n",
              "      <th>3</th>\n",
              "      <td>4.6</td>\n",
              "      <td>3.1</td>\n",
              "      <td>1.5</td>\n",
              "      <td>0.2</td>\n",
              "      <td>Iris-setosa</td>\n",
              "    </tr>\n",
              "    <tr>\n",
              "      <th>4</th>\n",
              "      <td>5.0</td>\n",
              "      <td>3.6</td>\n",
              "      <td>1.4</td>\n",
              "      <td>0.2</td>\n",
              "      <td>Iris-setosa</td>\n",
              "    </tr>\n",
              "  </tbody>\n",
              "</table>\n",
              "</div>\n",
              "    <div class=\"colab-df-buttons\">\n",
              "\n",
              "  <div class=\"colab-df-container\">\n",
              "    <button class=\"colab-df-convert\" onclick=\"convertToInteractive('df-074bae3a-d6d8-40bb-be15-26f9bec74021')\"\n",
              "            title=\"Convert this dataframe to an interactive table.\"\n",
              "            style=\"display:none;\">\n",
              "\n",
              "  <svg xmlns=\"http://www.w3.org/2000/svg\" height=\"24px\" viewBox=\"0 -960 960 960\">\n",
              "    <path d=\"M120-120v-720h720v720H120Zm60-500h600v-160H180v160Zm220 220h160v-160H400v160Zm0 220h160v-160H400v160ZM180-400h160v-160H180v160Zm440 0h160v-160H620v160ZM180-180h160v-160H180v160Zm440 0h160v-160H620v160Z\"/>\n",
              "  </svg>\n",
              "    </button>\n",
              "\n",
              "  <style>\n",
              "    .colab-df-container {\n",
              "      display:flex;\n",
              "      gap: 12px;\n",
              "    }\n",
              "\n",
              "    .colab-df-convert {\n",
              "      background-color: #E8F0FE;\n",
              "      border: none;\n",
              "      border-radius: 50%;\n",
              "      cursor: pointer;\n",
              "      display: none;\n",
              "      fill: #1967D2;\n",
              "      height: 32px;\n",
              "      padding: 0 0 0 0;\n",
              "      width: 32px;\n",
              "    }\n",
              "\n",
              "    .colab-df-convert:hover {\n",
              "      background-color: #E2EBFA;\n",
              "      box-shadow: 0px 1px 2px rgba(60, 64, 67, 0.3), 0px 1px 3px 1px rgba(60, 64, 67, 0.15);\n",
              "      fill: #174EA6;\n",
              "    }\n",
              "\n",
              "    .colab-df-buttons div {\n",
              "      margin-bottom: 4px;\n",
              "    }\n",
              "\n",
              "    [theme=dark] .colab-df-convert {\n",
              "      background-color: #3B4455;\n",
              "      fill: #D2E3FC;\n",
              "    }\n",
              "\n",
              "    [theme=dark] .colab-df-convert:hover {\n",
              "      background-color: #434B5C;\n",
              "      box-shadow: 0px 1px 3px 1px rgba(0, 0, 0, 0.15);\n",
              "      filter: drop-shadow(0px 1px 2px rgba(0, 0, 0, 0.3));\n",
              "      fill: #FFFFFF;\n",
              "    }\n",
              "  </style>\n",
              "\n",
              "    <script>\n",
              "      const buttonEl =\n",
              "        document.querySelector('#df-074bae3a-d6d8-40bb-be15-26f9bec74021 button.colab-df-convert');\n",
              "      buttonEl.style.display =\n",
              "        google.colab.kernel.accessAllowed ? 'block' : 'none';\n",
              "\n",
              "      async function convertToInteractive(key) {\n",
              "        const element = document.querySelector('#df-074bae3a-d6d8-40bb-be15-26f9bec74021');\n",
              "        const dataTable =\n",
              "          await google.colab.kernel.invokeFunction('convertToInteractive',\n",
              "                                                    [key], {});\n",
              "        if (!dataTable) return;\n",
              "\n",
              "        const docLinkHtml = 'Like what you see? Visit the ' +\n",
              "          '<a target=\"_blank\" href=https://colab.research.google.com/notebooks/data_table.ipynb>data table notebook</a>'\n",
              "          + ' to learn more about interactive tables.';\n",
              "        element.innerHTML = '';\n",
              "        dataTable['output_type'] = 'display_data';\n",
              "        await google.colab.output.renderOutput(dataTable, element);\n",
              "        const docLink = document.createElement('div');\n",
              "        docLink.innerHTML = docLinkHtml;\n",
              "        element.appendChild(docLink);\n",
              "      }\n",
              "    </script>\n",
              "  </div>\n",
              "\n",
              "\n",
              "<div id=\"df-1daf5824-e96e-4eb2-ae7a-120b6bb1a9f8\">\n",
              "  <button class=\"colab-df-quickchart\" onclick=\"quickchart('df-1daf5824-e96e-4eb2-ae7a-120b6bb1a9f8')\"\n",
              "            title=\"Suggest charts\"\n",
              "            style=\"display:none;\">\n",
              "\n",
              "<svg xmlns=\"http://www.w3.org/2000/svg\" height=\"24px\"viewBox=\"0 0 24 24\"\n",
              "     width=\"24px\">\n",
              "    <g>\n",
              "        <path d=\"M19 3H5c-1.1 0-2 .9-2 2v14c0 1.1.9 2 2 2h14c1.1 0 2-.9 2-2V5c0-1.1-.9-2-2-2zM9 17H7v-7h2v7zm4 0h-2V7h2v10zm4 0h-2v-4h2v4z\"/>\n",
              "    </g>\n",
              "</svg>\n",
              "  </button>\n",
              "\n",
              "<style>\n",
              "  .colab-df-quickchart {\n",
              "      --bg-color: #E8F0FE;\n",
              "      --fill-color: #1967D2;\n",
              "      --hover-bg-color: #E2EBFA;\n",
              "      --hover-fill-color: #174EA6;\n",
              "      --disabled-fill-color: #AAA;\n",
              "      --disabled-bg-color: #DDD;\n",
              "  }\n",
              "\n",
              "  [theme=dark] .colab-df-quickchart {\n",
              "      --bg-color: #3B4455;\n",
              "      --fill-color: #D2E3FC;\n",
              "      --hover-bg-color: #434B5C;\n",
              "      --hover-fill-color: #FFFFFF;\n",
              "      --disabled-bg-color: #3B4455;\n",
              "      --disabled-fill-color: #666;\n",
              "  }\n",
              "\n",
              "  .colab-df-quickchart {\n",
              "    background-color: var(--bg-color);\n",
              "    border: none;\n",
              "    border-radius: 50%;\n",
              "    cursor: pointer;\n",
              "    display: none;\n",
              "    fill: var(--fill-color);\n",
              "    height: 32px;\n",
              "    padding: 0;\n",
              "    width: 32px;\n",
              "  }\n",
              "\n",
              "  .colab-df-quickchart:hover {\n",
              "    background-color: var(--hover-bg-color);\n",
              "    box-shadow: 0 1px 2px rgba(60, 64, 67, 0.3), 0 1px 3px 1px rgba(60, 64, 67, 0.15);\n",
              "    fill: var(--button-hover-fill-color);\n",
              "  }\n",
              "\n",
              "  .colab-df-quickchart-complete:disabled,\n",
              "  .colab-df-quickchart-complete:disabled:hover {\n",
              "    background-color: var(--disabled-bg-color);\n",
              "    fill: var(--disabled-fill-color);\n",
              "    box-shadow: none;\n",
              "  }\n",
              "\n",
              "  .colab-df-spinner {\n",
              "    border: 2px solid var(--fill-color);\n",
              "    border-color: transparent;\n",
              "    border-bottom-color: var(--fill-color);\n",
              "    animation:\n",
              "      spin 1s steps(1) infinite;\n",
              "  }\n",
              "\n",
              "  @keyframes spin {\n",
              "    0% {\n",
              "      border-color: transparent;\n",
              "      border-bottom-color: var(--fill-color);\n",
              "      border-left-color: var(--fill-color);\n",
              "    }\n",
              "    20% {\n",
              "      border-color: transparent;\n",
              "      border-left-color: var(--fill-color);\n",
              "      border-top-color: var(--fill-color);\n",
              "    }\n",
              "    30% {\n",
              "      border-color: transparent;\n",
              "      border-left-color: var(--fill-color);\n",
              "      border-top-color: var(--fill-color);\n",
              "      border-right-color: var(--fill-color);\n",
              "    }\n",
              "    40% {\n",
              "      border-color: transparent;\n",
              "      border-right-color: var(--fill-color);\n",
              "      border-top-color: var(--fill-color);\n",
              "    }\n",
              "    60% {\n",
              "      border-color: transparent;\n",
              "      border-right-color: var(--fill-color);\n",
              "    }\n",
              "    80% {\n",
              "      border-color: transparent;\n",
              "      border-right-color: var(--fill-color);\n",
              "      border-bottom-color: var(--fill-color);\n",
              "    }\n",
              "    90% {\n",
              "      border-color: transparent;\n",
              "      border-bottom-color: var(--fill-color);\n",
              "    }\n",
              "  }\n",
              "</style>\n",
              "\n",
              "  <script>\n",
              "    async function quickchart(key) {\n",
              "      const quickchartButtonEl =\n",
              "        document.querySelector('#' + key + ' button');\n",
              "      quickchartButtonEl.disabled = true;  // To prevent multiple clicks.\n",
              "      quickchartButtonEl.classList.add('colab-df-spinner');\n",
              "      try {\n",
              "        const charts = await google.colab.kernel.invokeFunction(\n",
              "            'suggestCharts', [key], {});\n",
              "      } catch (error) {\n",
              "        console.error('Error during call to suggestCharts:', error);\n",
              "      }\n",
              "      quickchartButtonEl.classList.remove('colab-df-spinner');\n",
              "      quickchartButtonEl.classList.add('colab-df-quickchart-complete');\n",
              "    }\n",
              "    (() => {\n",
              "      let quickchartButtonEl =\n",
              "        document.querySelector('#df-1daf5824-e96e-4eb2-ae7a-120b6bb1a9f8 button');\n",
              "      quickchartButtonEl.style.display =\n",
              "        google.colab.kernel.accessAllowed ? 'block' : 'none';\n",
              "    })();\n",
              "  </script>\n",
              "</div>\n",
              "    </div>\n",
              "  </div>\n"
            ],
            "text/plain": [
              "   SepalLengthCm  SepalWidthCm  PetalLengthCm  PetalWidthCm      Species\n",
              "0            5.1           3.5            1.4           0.2  Iris-setosa\n",
              "1            4.9           3.0            1.4           0.2  Iris-setosa\n",
              "2            4.7           3.2            1.3           0.2  Iris-setosa\n",
              "3            4.6           3.1            1.5           0.2  Iris-setosa\n",
              "4            5.0           3.6            1.4           0.2  Iris-setosa"
            ]
          },
          "execution_count": 7,
          "metadata": {},
          "output_type": "execute_result"
        }
      ],
      "source": [
        "import pandas as pd\n",
        "\n",
        "data = {\n",
        "    \"Id\": [1, 2, 3, 4, 5],\n",
        "    \"SepalLengthCm\": [5.1, 4.9, 4.7, 4.6, 5.0],\n",
        "    \"SepalWidthCm\": [3.5, 3.0, 3.2, 3.1, 3.6],\n",
        "    \"PetalLengthCm\": [1.4, 1.4, 1.3, 1.5, 1.4],\n",
        "    \"PetalWidthCm\": [0.2, 0.2, 0.2, 0.2, 0.2],\n",
        "    \"Species\": [\"Iris-setosa\"] * 5\n",
        "}\n",
        "\n",
        "df = pd.DataFrame(data)\n",
        "\n",
        "df = df.drop(\"Id\", axis=1)\n",
        "\n",
        "print(df)"
      ]
    },
    {
      "cell_type": "markdown",
      "metadata": {
        "id": "R2j3kkefV5DP"
      },
      "source": [
        "Давайте проверим, сколько у нас разных видов ирисов в итоге - должно быть 3 по 50 штук каждый. Воспользуйтесь `value_counts` , чтобы посмотреть, какие есть возможные значения у колонки species."
      ]
    },
    {
      "cell_type": "code",
      "execution_count": null,
      "metadata": {
        "id": "ciikB8rDYmvE"
      },
      "outputs": [],
      "source": [
        "import pandas as pd\n",
        "\n",
        "data = {\n",
        "    \"SepalLengthCm\": [5.1, 4.9, 4.7, 4.6, 5.0] * 30,\n",
        "    \"SepalWidthCm\": [3.5, 3.0, 3.2, 3.1, 3.6] * 30,\n",
        "    \"PetalLengthCm\": [1.4, 1.4, 1.3, 1.5, 1.4] * 30,\n",
        "    \"PetalWidthCm\": [0.2, 0.2, 0.2, 0.2, 0.2] * 30,\n",
        "    \"Species\": [\"Iris-setosa\"] * 50 + [\"Iris-versicolor\"] * 50 + [\"Iris-virginica\"] * 50,\n",
        "}\n",
        "\n",
        "df = pd.DataFrame(data)\n",
        "\n",
        "species_counts = df[\"Species\"].value_counts()\n",
        "\n",
        "print(species_counts)"
      ]
    },
    {
      "cell_type": "markdown",
      "metadata": {
        "id": "WXYdKrdqYp6I"
      },
      "source": [
        "## 3.1 Графики длины и ширины лепестка ириса\n",
        "\n",
        "Давайте попробуем сравнить, связаны ли ширина и длина лепестков - воспользуйтесь `sns.scatterplot`, чтобы отобразить на оси OXY значения. Не забудьте подписать график и оси!"
      ]
    },
    {
      "cell_type": "code",
      "execution_count": null,
      "metadata": {
        "id": "yC3bz9HHadj2"
      },
      "outputs": [],
      "source": [
        "import pandas as pd\n",
        "import seaborn as sns\n",
        "import matplotlib.pyplot as plt\n",
        "from sklearn.datasets import load_iris\n",
        "\n",
        "# Загружаем данные из sklearn\n",
        "iris = load_iris()\n",
        "df = pd.DataFrame(\n",
        "    data=iris.data,\n",
        "    columns=[\"SepalLengthCm\", \"SepalWidthCm\", \"PetalLengthCm\", \"PetalWidthCm\"]\n",
        ")\n",
        "df[\"Species\"] = [iris.target_names[i] for i in iris.target]\n",
        "\n",
        "# Построение scatter plot\n",
        "plt.figure(figsize=(10, 6))\n",
        "sns.scatterplot(\n",
        "    data=df,\n",
        "    x=\"PetalLengthCm\",\n",
        "    y=\"PetalWidthCm\",\n",
        "    hue=\"Species\",\n",
        "    palette=\"muted\"\n",
        ")\n",
        "\n",
        "# Подписи к графику\n",
        "plt.title(\"Зависимость ширины и длины лепестков у ирисов\", fontsize=14)\n",
        "plt.xlabel(\"Длина лепестка (см)\", fontsize=12)\n",
        "plt.ylabel(\"Ширина лепестка (см)\", fontsize=12)\n",
        "plt.legend(title=\"Вид\")\n",
        "plt.grid(True)\n",
        "\n",
        "# Отображение графика\n",
        "plt.show()"
      ]
    },
    {
      "cell_type": "markdown",
      "metadata": {
        "id": "xnNewWCcbRqu"
      },
      "source": [
        "Напишите, какие выводы можно сделать из графика. Чего графику не хватает, чтобы он был информативным?\n",
        "\n",
        "<font color='red'>Выводы из графика:\n",
        "Взаимосвязь между шириной и длиной лепестков:\n",
        "У Iris-setosa лепестки короткие и узкие, их точки располагаются компактно и не пересекаются с другими видами.\n",
        "У Iris-versicolor лепестки средней длины и ширины, данные для этого вида частично перекрываются с Iris-virginica.\n",
        "У Iris-virginica лепестки длинные и широкие, значения этого вида перекрываются с Iris-versicolor.\n",
        "Линейная разделимость:\n",
        "Iris-setosa линейно отделим от других видов, так как его точки расположены обособленно.\n",
        "Iris-versicolor и Iris-virginica не линейно отделимы — их данные перекрываются, что делает классификацию сложной.\n",
        "Чего не хватает графику, чтобы он был более информативным:\n",
        "Размер точек:\n",
        "На графике точки имеют одинаковый размер, это усложняет восприятие плотности данных. Можно варьировать размер точек для отображения дополнительной информации, например, количества перекрывающихся значений.\n",
        "Пояснительная статистика:\n",
        "График не показывает средние значения, разброс или диапазоны для каждой группы. Добавление таких элементов (например, эллипсов ковариации или медианных линий) могло бы лучше визуализировать различия между группами.\n",
        "Прозрачность точек:\n",
        "При плотных данных перекрытие точек делает график менее читабельным. Добавление прозрачности (alpha) позволит видеть плотность данных.\n",
        "Области классификации:\n",
        "Графику не хватает областей классификации или граничных линий, которые могли бы показать, как можно разделить виды ирисов на основе их признаков. Это может быть полезно, если данные используются в машинном обучении.\n",
        "Дополнительные признаки:\n",
        "График отображает только два признака — ширину и длину лепестков. Добавление третьего признака, например, цвета или формы точек для ширины или длины чашелистика, могло бы сделать анализ глубже.\n",
        "Как улучшить график:\n",
        "Добавить прозрачность точек:\n",
        "sns.scatterplot(..., alpha=0.7)\n",
        "Нанести эллипсы или доверительные интервалы:\n",
        "sns.kdeplot(..., fill=True)\n",
        "Использовать интерактивные графики (например, с Plotly) для отображения дополнительных признаков или 3D-графики:\n",
        "fig = px.scatter_3d(...)\n",
        "Эти улучшения позволят визуализировать данные более наглядно и дать больше полезной информации для анализа.</font>"
      ]
    },
    {
      "cell_type": "markdown",
      "metadata": {
        "id": "9KNx2DY7b92b"
      },
      "source": [
        "Давайте попробуем другие графики для тех же целей из библиотеки seaborn - `sns.jointplot`; кроме того, попробуйте выделить цветом точки на графике в зависимости от вида ириса - воспользуйтесь `sns.facetgrid`. В следующих ячейках выведите эти два графика и проанализируйте."
      ]
    },
    {
      "cell_type": "code",
      "execution_count": null,
      "metadata": {
        "id": "n448lJCObP6J"
      },
      "outputs": [],
      "source": [
        "import seaborn as sns\n",
        "import pandas as pd\n",
        "import matplotlib.pyplot as plt\n",
        "from sklearn.datasets import load_iris\n",
        "\n",
        "# Загружаем данные из sklearn\n",
        "iris = load_iris()\n",
        "df = pd.DataFrame(\n",
        "    data=iris.data,\n",
        "    columns=[\"SepalLengthCm\", \"SepalWidthCm\", \"PetalLengthCm\", \"PetalWidthCm\"]\n",
        ")\n",
        "df[\"Species\"] = [iris.target_names[i] for i in iris.target]\n",
        "\n",
        "# Построение jointplot\n",
        "sns.jointplot(\n",
        "    data=df,\n",
        "    x=\"PetalLengthCm\",\n",
        "    y=\"PetalWidthCm\",\n",
        "    hue=\"Species\",\n",
        "    kind=\"scatter\",\n",
        "    palette=\"muted\",\n",
        "    height=8\n",
        ")\n",
        "\n",
        "# Отображение графика\n",
        "plt.show()"
      ]
    },
    {
      "cell_type": "code",
      "execution_count": null,
      "metadata": {
        "id": "GFRnPtx1cV2D"
      },
      "outputs": [],
      "source": [
        "# Построение FacetGrid\n",
        "g = sns.FacetGrid(df, hue=\"Species\", height=6, palette=\"muted\")\n",
        "g.map(plt.scatter, \"PetalLengthCm\", \"PetalWidthCm\", alpha=0.7)\n",
        "\n",
        "# Добавляем легенду\n",
        "g.add_legend()\n",
        "\n",
        "# Подписи\n",
        "g.fig.suptitle(\"Зависимость ширины и длины лепестков (FacetGrid)\", fontsize=14)\n",
        "g.set_axis_labels(\"Длина лепестка (см)\", \"Ширина лепестка (см)\")\n",
        "\n",
        "# Отображение графика\n",
        "plt.show()"
      ]
    },
    {
      "cell_type": "markdown",
      "metadata": {
        "id": "9AoAkXk5cV9h"
      },
      "source": [
        "Какие выводы можно сделать из этих графиков? Какой из 3 методов - scatterplot, jointplot, facetgrid вам кажется лучше?\n",
        "\n",
        "<font color='red'> Выводы из графиков:\n",
        "1. sns.scatterplot:\n",
        "Особенности: Этот график показывает простое рассеяние данных с выделением точек по цветам, в зависимости от вида ириса. Он наглядно отображает, как ширина и длина лепестков связаны между собой.Анализ:\n",
        "Iris-setosa имеет четко разделенные точки, которые не пересекаются с другими видами. Это подтверждает линейную разделимость этого вида.Iris-versicolor и Iris-virginica имеют больше перекрывающихся точек, что указывает на нелинейную разделимость этих видов.\n",
        "\n",
        "2. sns.jointplot:\n",
        "Особенности: График сочетает рассеяние и гистограммы для каждого из признаков. Он позволяет увидеть как плотность данных, так и распределение значений на осях.Анализ:\n",
        "Iris-setosa явно выделяется как отдельная группа с ограниченным диапазоном значений как по длине, так и по ширине лепестков.Iris-versicolor и Iris-virginica имеют пересекающиеся области плотности, что указывает на сложности в их разделении.\n",
        "Гистограммы на осях показывают распределение значений и помогают понять диапазоны для каждого вида.\n",
        "\n",
        "3. sns.FacetGrid:Особенности: Этот график разделяет данные по видам ирисов в виде нескольких подграфиков, где каждый вид представлен отдельным цветом. Он позволяет наглядно увидеть распределение данных по каждому виду.\n",
        "Анализ:Каждый вид на отдельном графике позволяет более детально увидеть, как распределены данные внутри каждого класса.\n",
        "Iris-setosa легко отделяется, а для Iris-versicolor и Iris-virginica видно, что данные сильно пересекаются.\n",
        "\n",
        "Сравнение методов:1. scatterplot:\n",
        "Преимущества: Простота, визуальная наглядность, можно быстро увидеть рассеяние точек по двум признакам.Недостатки: Не отображает плотность данных и не помогает с распределением значений на осях. Трудно оценить, насколько сильно пересекаются группы.\n",
        "2. jointplot:\n",
        "Преимущества: Этот метод сочетает в себе рассеяние и распределение значений. Он отлично показывает как плотность данных, так и их взаимосвязь.Недостатки: Иногда может быть перегружен информацией, особенно если на графике много данных (например, плотные распределения).\n",
        "3. FacetGrid:\n",
        "Преимущества: Отлично подходит для отображения данных по категориям (видам), визуализируя каждый вид отдельно. Это позволяет легко сравнивать различные группы и их распределения.Недостатки: Меньше информативности в плане плотности данных и взаимосвязи признаков, чем в случае с jointplot. Потребуется больше времени для создания, если данных много.\n",
        "Какой метод лучше?\n",
        "Лучший метод зависит от задачи:Если цель — увидеть взаимосвязь между признаками (например, как ширина и длина лепестков взаимосвязаны), jointplot будет самым полезным. Он сочетает рассеяние точек с плотностью данных и гистограммами, что помогает лучше понять, как данные распределяются и как они связаны.\n",
        "Если важно увидеть, как данные разделены по категориям, то FacetGrid будет предпочтительнее. Он позволяет наглядно сравнивать отдельные группы и их поведение.Если нужна простая визуализация взаимосвязи без лишней информации, scatterplot — это самый быстрый и понятный вариант.\n",
        "\n",
        "Для вашего случая, если задача — оценить взаимосвязь и разделимость видов ирисов, то jointplot и FacetGridпредставляют наибольшую ценность, поскольку они дают больше информации о плотности данных и распределении по категориям. scatterplot же полезен, если нужно просто увидеть общую картину без подробной статистики. </font>"
      ]
    },
    {
      "cell_type": "markdown",
      "metadata": {
        "id": "VLhlRICGc75D"
      },
      "source": [
        "## 3.2 Графики распределений значений длины лепестка"
      ]
    },
    {
      "cell_type": "markdown",
      "metadata": {
        "id": "6ZFYjsYUdBuI"
      },
      "source": [
        "Постройте график \"ящика с усами\" - `sns.boxplot` и его аналог - `sns.violinplot`. По оси Ox должны находиться возможные виды ирисов, по оси Oy."
      ]
    },
    {
      "cell_type": "code",
      "execution_count": null,
      "metadata": {
        "id": "r3ZO1ll9dr9N"
      },
      "outputs": [],
      "source": [
        "import seaborn as sns\n",
        "import pandas as pd\n",
        "import matplotlib.pyplot as plt\n",
        "from sklearn.datasets import load_iris\n",
        "\n",
        "# Загружаем данные из sklearn\n",
        "iris = load_iris()\n",
        "df = pd.DataFrame(\n",
        "    data=iris.data,\n",
        "    columns=[\"SepalLengthCm\", \"SepalWidthCm\", \"PetalLengthCm\", \"PetalWidthCm\"]\n",
        ")\n",
        "df[\"Species\"] = [iris.target_names[i] for i in iris.target]\n",
        "\n",
        "# Построение boxplot\n",
        "plt.figure(figsize=(10, 6))\n",
        "sns.boxplot(\n",
        "    x=\"Species\",\n",
        "    y=\"PetalLengthCm\",  # Можно изменить на любой другой признак\n",
        "    data=df,\n",
        "    palette=\"muted\"\n",
        ")\n",
        "\n",
        "# Подписи\n",
        "plt.title(\"График ящика с усами (Boxplot) для длины лепестка\", fontsize=14)\n",
        "plt.xlabel(\"Вид ириса\", fontsize=12)\n",
        "plt.ylabel(\"Длина лепестка (см)\", fontsize=12)\n",
        "\n",
        "# Отображение графика\n",
        "plt.show()"
      ]
    },
    {
      "cell_type": "code",
      "execution_count": null,
      "metadata": {
        "id": "2hlonw5odtbL"
      },
      "outputs": [],
      "source": [
        "# Построение violinplot\n",
        "plt.figure(figsize=(10, 6))\n",
        "sns.violinplot(\n",
        "    x=\"Species\",\n",
        "    y=\"PetalLengthCm\",  # Можно изменить на любой другой признак\n",
        "    data=df,\n",
        "    palette=\"muted\"\n",
        ")\n",
        "\n",
        "# Подписи\n",
        "plt.title(\"Скрипичный график (Violinplot) для длины лепестка\", fontsize=14)\n",
        "plt.xlabel(\"Вид ириса\", fontsize=12)\n",
        "plt.ylabel(\"Длина лепестка (см)\", fontsize=12)\n",
        "\n",
        "# Отображение графика\n",
        "plt.show()"
      ]
    },
    {
      "cell_type": "markdown",
      "metadata": {
        "id": "etGxbdVedtmW"
      },
      "source": [
        "Сравните два вида графиков. Какой более информативный, а какой - более красивый визуально по вашему мнению? Какую информацию мы можем получить из этих графиков?\n",
        "\n",
        "<font color='red'> 1. Boxplot (График \"ящика с усами\")\n",
        "Особенности:\n",
        "Основные элементы: медиана, 1-й и 3-й квартиль, минимальные и максимальные значения (без выбросов), а также выбросы (если они есть).Этот график дает основные статистические данные о распределении данных: он показывает, как распределены данные и выделяет возможные выбросы.\n",
        "Преимущества:\n",
        "Простота: Boxplot — это классический инструмент для статистического анализа, который легко интерпретировать. Он хорошо подходит для отображения межквартильного размаха и выявления выбросов.\n",
        "Интуитивность: Очень наглядно показывается медиана, разброс значений и выбросы.Ровная структура: Подходит для простого сравнения нескольких групп (например, видов ирисов).\n",
        "Недостатки:\n",
        "Отсутствие информации о плотности: Не показывает, как данные распределены внутри каждого квартиля или между ними, а также не отображает форму распределения (например, нормальность или асимметрию).\n",
        "Меньше деталей: Хотя это даёт основные статистики, но не дает полной картины о \"форме\" данных.\n",
        "2. Violinplot (Скрипичный график)Особенности:\n",
        "Основные элементы: Показывает как распределение данных (с помощью плотности) в виде \"скрипки\" с зеркальной симметрией, а также основные статистические элементы, такие как медиана и квартиль.\n",
        "Скрипичный график включает не только данные о медиане и разбросе, но и визуализирует форму распределения данных (например, расплата с одной или несколькими вершинами).\n",
        "Преимущества:\n",
        "Детальная информация о плотности распределения: Violinplot предоставляет более подробную информацию о форме распределения данных, например, наличие нескольких пиков, асимметрию и \"плотность\" распределения.Гибкость: Этот график полезен, когда важно не только понять размах данных, но и увидеть, как они сгруппированы в пределах каждого квартиля, какие области имеют большую плотность.\n",
        "Визуально привлекательный: Является более \"красивым\" и сложным визуально, что может привлекать внимание и быть полезным при презентации.\n",
        "Недостатки:\n",
        "Сложность интерпретации: Для менее опытных пользователей или в случаях с большими объемами данных может быть сложнее сразу понять плотность распределения, особенно если форма графика сложная или сильно ассиметрична.Перегрузка информации: Может быть менее информативным в некоторых случаях, если плотность распределения данных не предоставляет существенной информации.\n",
        "Сравнение по информативности\n",
        "Boxplot:\n",
        "Более информативен для базового статистического анализа, поскольку чётко показывает медиану, квартильный размах и выбросы.Он идеален для быстрого сравнения различных групп, например, для проверки наличия выбросов и оценки расхождения данных по видам.\n",
        "\n",
        "Violinplot:\n",
        "Дает более глубокое понимание данных, поскольку дополнительно показывает плотность распределения, позволяя выявить особенности распределения, такие как мультипик или асимметричные данные.Лучше подходит для анализа формы данных и выявления закономерностей, не видимых на простом ящике с усами.\n",
        "\n",
        "Сравнение по визуальной привлекательности\n",
        "Boxplot: Это простой и чистый график, который часто используется в аналитике данных для представления основных статистик. Хотя он информативен, его внешний вид довольно функционален и не всегда зрелищен.\n",
        "Violinplot: Выглядит более эстетично и привлекательно, его визуальная сложность (формы \"скрипки\") делает его более эффектным. Он хорошо подходит для презентаций и визуализаций, где важно не только показать данные, но и сделать их представление интересным.\n",
        "Какую информацию можно получить из этих графиков?\n",
        "Boxplot:\n",
        "Медиана: центральное значение для каждого вида ириса.Размах: минимальное и максимальное значение (кроме выбросов).\n",
        "Квартильный размах: верхний и нижний квартиль показывают разброс данных.Выбросы: точки, выходящие за пределы усов, указывают на возможные аномалии в данных.\n",
        "\n",
        "Violinplot:\n",
        "Плотность распределения: показывает, где сосредоточены данные (например, пики на графике могут указывать на области высокой плотности).Медиана и квартиль: как и в boxplot, но также показываются распределения внутри этих областей.\n",
        "Форма распределения: позволяет увидеть, есть ли у данных одна основная вершина, несколько пиков или\n",
        "\n",
        "асимметричные распределения.\n",
        "\n",
        "Заключение:Для статистического анализа и быстрого получения основных показателей (медианы, размаха, выбросов) boxplot будет более полезен.\n",
        "Для глубокого анализа распределения данных (например, проверки асимметрии, многомодальности) и визуально привлекательных графиков violinplot будет лучшим выбором.\n",
        "Лично для меня:\n",
        "Boxplot — это отличный инструмент для статистического анализа, когда нужно быстро оценить ключевые статистики.Violinplot — более привлекательный и информативный с точки зрения визуализации плотности распределений, и я бы выбрал его для более детальных презентаций или анализа. </font>"
      ]
    },
    {
      "cell_type": "markdown",
      "metadata": {
        "id": "l3Ds9W78eXQ7"
      },
      "source": [
        "## 3.3 Попарные графики взаимосвязи признаков\n",
        "\n",
        "\n",
        "Давайте попробуем построить большую табличку из графиковв размера 4 на 4, где у нас находятся все возможные пары признаков (длина/ширина лепестка, длина/ширина чашелистика). Для этого воспользуйтесь `sns.pairplot` и не забудьте указать параметр `hue`."
      ]
    },
    {
      "cell_type": "code",
      "execution_count": null,
      "metadata": {
        "id": "Inl3JIWKe9VU"
      },
      "outputs": [],
      "source": [
        "import seaborn as sns\n",
        "import pandas as pd\n",
        "import matplotlib.pyplot as plt\n",
        "from sklearn.datasets import load_iris\n",
        "\n",
        "# Загружаем данные из sklearn\n",
        "iris = load_iris()\n",
        "df = pd.DataFrame(\n",
        "    data=iris.data,\n",
        "    columns=[\"SepalLengthCm\", \"SepalWidthCm\", \"PetalLengthCm\", \"PetalWidthCm\"]\n",
        ")\n",
        "df[\"Species\"] = [iris.target_names[i] for i in iris.target]\n",
        "\n",
        "# Построение pairplot\n",
        "sns.pairplot(\n",
        "    df,\n",
        "    hue=\"Species\",  # Разделение точек по видам ирисов\n",
        "    palette=\"muted\",  # Цветовая палитра для видов\n",
        "    height=2.5,  # Размер графиков\n",
        ")\n",
        "\n",
        "# Отображение графика\n",
        "plt.show()"
      ]
    },
    {
      "cell_type": "markdown",
      "metadata": {
        "id": "TI5q8XmWfFlG"
      },
      "source": [
        "Какую информацию о взаимосвязи признаков вы можете почерпнуть из полученного графика?\n",
        "\n",
        "<font color='red'> 1. Длина и ширина лепестков (Petal Length и Petal Width)\n",
        "Явная корреляция: Графики, показывающие пары длины и ширины лепестков, обычно демонстрируют явную положительную корреляцию. Чем больше длина лепестка, тем больше его ширина. Эта зависимость видна на диагональном графике и на недиагональных графиках.\n",
        "Четкое разделение классов: Iris-setosa легко отделяется от других видов по этим признакам. Для него существует небольшой разброс по длине и ширине лепестков, но в целом, данные этого вида имеют узкие диапазоны.\n",
        "Iris-versicolor и Iris-virginica: Эти два вида перекрываются, что подтверждает, что они не всегда легко разделимы по длине и ширине лепестков, особенно в промежуточных значениях.\n",
        "2. Длина и ширина чашелистика (Sepal Length и Sepal Width)\n",
        "Низкая корреляция: Между длиной и шириной чашелистика корреляция намного слабее. Графики для этих признаков показывают более случайное распределение точек.\n",
        "Разделимость видов: Вид Iris-setosa снова отличается от других видов. Однако Iris-versicolor и Iris-virginica имеют схожие диапазоны значений и довольно сильно перекрываются, что затрудняет их разделение по этим признакам.\n",
        "Группировка по видам: Для Iris-setosa наблюдается четкое разделение с другими видами, особенно в паре \"Длина чашелистика - Ширина чашелистика\". Эти два признака позволяют легче отделить этот вид от остальных.\n",
        "3. Взаимосвязь между лепестками и чашелистиками\n",
        "Отсутствие сильной корреляции: Признаки длины и ширины чашелистика имеют слабую корреляцию с длиной и шириной лепестков. Это видно по графикам для пар признаков (например, \"Длина чашелистика - Длина лепестка\" или \"Ширина чашелистика - Ширина лепестка\"), где точки распределены более случайно.\n",
        "Несколько областей плотности: В случае Iris-setosa точки на графиках для длины чашелистика и длины лепестка показывают плотные области, тогда как для других видов ирисов эти области более расплывчаты, с более широкими диапазонами значений.\n",
        "4. Многообразие данных для разных видов ирисов\n",
        "Iris-setosa: Этот вид легко отделяется по большинству признаков, в частности по длине лепестков и чашелистика. Он образует отдельную группу, как для лепестков, так и для чашелистиков, с меньшими разбросами значений.\n",
        "Iris-versicolor и Iris-virginica: Эти два вида часто перекрываются по значениям как для лепестков, так и для чашелистиков, что усложняет их разделение. Однако, на некоторых графиках можно увидеть, что Iris-virginica имеет более высокие значения длины лепестков и ширины лепестков, чем Iris-versicolor.\n",
        "5. Распределение признаков для каждого вида ириса\n",
        "На диагональных графиках (гистограммах или KDE) можно наблюдать распределение значений для каждого признака. Например:\n",
        "Iris-setosa имеет более компактное распределение, что говорит о меньшем разбросе значений для признаков.\n",
        "Iris-versicolor и Iris-virginica имеют более широкие распределения, особенно по длине лепестков, что указывает на большую изменчивость внутри этих видов.\n",
        "\n",
        "6. Мультиколлинеарность и корреляции\n",
        "По графикам видно, что некоторые признаки имеют более сильные корреляции (например, между длиной и шириной лепестков), что может быть полезно для построения моделей, поскольку коррелированные признаки могут быть избыточными. Это может помочь при отборе признаков для машинного обучения.\n",
        "ЗаключениеIris-setosa можно легко отделить от других видов на основе признаков длины и ширины лепестков и чашелистика, так как для этого вида значения значительно меньше и сосредоточены в узком диапазоне.\n",
        "Iris-versicolor и Iris-virginica имеют много схожих значений, и их трудно разделить только с помощью этих признаков, особенно в паре \"Длина чашелистика - Ширина чашелистика\".\n",
        "График pairplot помогает визуализировать не только корреляции между признаками, но и выявить области, где виды ирисов сильно пересекаются, что может быть полезным для построения моделей классификации. </font>"
      ]
    },
    {
      "cell_type": "markdown",
      "metadata": {
        "id": "Qjx7hlPqfMUs"
      },
      "source": [
        "Какие графики находятся на диагонали этой таблицы?\n",
        "\n",
        "<font color='red'> На диагонали таблицы, построенной с помощью функции sns.pairplot, будут находиться графики, которые отображают распределение каждого признака для всех образцов в наборе данных. Эти графики обычно представляют собой гистограммы или оценки плотности распределения (KDE) для каждого признака.\n",
        "\n",
        "Для набора данных с признаками:\n",
        "\n",
        "SepalLengthCm (длина чашелистика)\n",
        "SepalWidthCm (ширина чашелистика)\n",
        "PetalLengthCm (длина лепестка)\n",
        "PetalWidthCm (ширина лепестка)\n",
        "На диагонали будут следующие графики:\n",
        "\n",
        "График для SepalLengthCm: Гистограмма или KDE, показывающая распределение длины чашелистика для всех образцов ирисов в наборе данных.\n",
        "График для SepalWidthCm: Гистограмма или KDE для ширины чашелистика.\n",
        "График для PetalLengthCm: Гистограмма или KDE для длины лепестка.\n",
        "График для PetalWidthCm: Гистограмма или KDE для ширины лепестка.\n",
        "Что эти графики показывают:\n",
        "Гистограмма на диагонали даст представление о том, как распределены значения каждого признака для всех видов ирисов.\n",
        "KDE (Kernel Density Estimate), если используется, покажет плавную оценку плотности распределения, что помогает лучше понять, как распределены данные.\n",
        "Важные моменты:\n",
        "Если данные сильно сгруппированы или имеют несколько пиков, это будет очевидно на диагональных графиках.\n",
        "Плотность распределения для каждого вида будет выделена цветом, если используется параметр hue, и это позволяет наглядно увидеть, как распределены признаки для различных видов ирисов.\n",
        "Таким образом, диагональные графики дают информацию о распределении каждого признака и могут помочь выявить особенности и различия между видами ирисов для каждого из этих признаков. </font>"
      ]
    },
    {
      "cell_type": "markdown",
      "metadata": {
        "id": "1lLyldeDfR0l"
      },
      "source": [
        "Попробуй заменить графики на диагонали таблицы на другие, возможно, более информативные (подсказка: в документации у `sns.pairplot` для этого есть специальный параметр). Выведи полученный график."
      ]
    },
    {
      "cell_type": "code",
      "execution_count": null,
      "metadata": {
        "id": "nzziJ41Wfgfo"
      },
      "outputs": [],
      "source": [
        "import seaborn as sns\n",
        "import pandas as pd\n",
        "import matplotlib.pyplot as plt\n",
        "from sklearn.datasets import load_iris\n",
        "\n",
        "# Загружаем данные из sklearn\n",
        "iris = load_iris()\n",
        "df = pd.DataFrame(\n",
        "    data=iris.data,\n",
        "    columns=[\"SepalLengthCm\", \"SepalWidthCm\", \"PetalLengthCm\", \"PetalWidthCm\"]\n",
        ")\n",
        "df[\"Species\"] = [iris.target_names[i] for i in iris.target]\n",
        "\n",
        "# Построение pairplot с заменой графиков на диагонали\n",
        "sns.pairplot(\n",
        "    df,\n",
        "    hue=\"Species\",  # Разделение точек по видам ирисов\n",
        "    palette=\"muted\",  # Цветовая палитра для видов\n",
        "    diag_kind=\"kde\",  # Использование KDE для диагональных графиков\n",
        "    height=2.5,  # Размер графиков\n",
        ")\n",
        "\n",
        "# Отображение графика\n",
        "plt.show()"
      ]
    },
    {
      "cell_type": "markdown",
      "metadata": {
        "id": "_lOw8ntYfhLX"
      },
      "source": [
        "Какие графики теперь находятся на диагонали таблицы? Получилось ли более информативно?\n",
        "\n",
        "<font color='red'> После того как мы использовали параметр diag_kind=\"kde\", графики на диагонали теперь отображают оценки плотности распределения (KDE), а не стандартные гистограммы. Таким образом, на диагонали теперь находятся следующие графики:\n",
        "\n",
        "1. KDE для SepalLengthCm (длина чашелистика):\n",
        "Показывает сглаженную плотность распределения длины чашелистика для всех образцов ирисов.\n",
        "2. KDE для SepalWidthCm (ширина чашелистика):\n",
        "Отображает сглаженную плотность распределения ширины чашелистика для всех образцов.\n",
        "3. KDE для PetalLengthCm (длина лепестка):\n",
        "Показывает плотность распределения длины лепестка.\n",
        "4. KDE для PetalWidthCm (ширина лепестка):\n",
        "Отображает плотность распределения ширины лепестка.\n",
        "Преимущества использования KDE на диагонали:\n",
        "Более гладкое распределение: KDE позволяет увидеть более плавное представление распределения признаков, что помогает точнее понять форму распределения данных. Например, если у признака есть несколько пиков или распределение несимметричное, это будет видно более четко, чем на гистограмме.\n",
        "Сравнение с несколькими пиками: Если данные имеют несколько групп или кластеров, это будет лучше заметно на графиках KDE, так как он не разбивает данные на интервалы (как гистограмма), а представляет их в виде сплошной кривой.\n",
        "Учет плотности: KDE позволяет лучше учитывать плотность значений и делает графики более информативными, если данные имеют узкие или широкие области с высокой плотностью.\n",
        "\n",
        "Стало ли более информативно?Да, использование KDE может сделать диагональные графики более информативными по следующим причинам:\n",
        "\n",
        "Точность: KDE более точно отображает распределение данных и дает более четкое представление о формах распределений, например, если распределение данных имеет несколько пиков или асимметрично.\n",
        "Гладкость: Графики KDE могут быть полезнее, когда важно понять распределение непрерывных данных, поскольку они не зависят от размера бинов (как в гистограмме).\n",
        "Выявление структуры: В отличие от гистограмм, которые могут скрыть некоторые особенности данных, KDE помогает выявить тонкие различия, такие как наличие двух или нескольких пиков.\n",
        "Недостатки:\n",
        "Сложность восприятия: Иногда KDE может быть сложным для восприятия, если данные имеют шум или если наблюдается большое количество точек в определенном диапазоне, что делает кривую слишком плотной или трудной для анализа.\n",
        "Настройка параметров: KDE чувствителен к настройкам сглаживания (ширина окна), и если параметры выбраны неудачно, график может быть либо слишком \"размазанным\", либо слишком \"зернистым\".\n",
        "Таким образом, использование KDE на диагонали может предоставить более детальную информацию о распределении данных и их плотности, что может быть полезно для более глубокого анализа, особенно если вам нужно выявить тонкие особенности данных. </font>"
      ]
    },
    {
      "cell_type": "markdown",
      "metadata": {
        "id": "QYw4Ipx8frhJ"
      },
      "source": []
    }
  ],
  "metadata": {
    "colab": {
      "provenance": [],
      "toc_visible": true
    },
    "kernelspec": {
      "display_name": "Python 3",
      "name": "python3"
    },
    "language_info": {
      "codemirror_mode": {
        "name": "ipython",
        "version": 3
      },
      "file_extension": ".py",
      "mimetype": "text/x-python",
      "name": "python",
      "nbconvert_exporter": "python",
      "pygments_lexer": "ipython3",
      "version": "3.10.14"
    }
  },
  "nbformat": 4,
  "nbformat_minor": 0
}
